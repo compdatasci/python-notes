{
 "cells": [
  {
   "cell_type": "markdown",
   "metadata": {},
   "source": [
    "# Introduction to the Pandas Library\n",
    "Pandas (http://pandas.pydata.org/) is a popular Python library for handling databases inside Python. It behaves very much like Excel and is designed for handling tabular data in a memory-efficient and easy to use way.\n",
    "\n",
    "Pandas works with tabular data organized like Excel. Generally there are three basic building blocks\n",
    "1. The `Series` class holds a \"column\" or \"row\" of data\n",
    "2. The `DataFrame` class holds colections of `Series` objects\n",
    "3. The `Panel` is a collection of `DataFrame` objects\n",
    "\n",
    "Below we create a simple series of three numbers"
   ]
  },
  {
   "cell_type": "code",
   "execution_count": null,
   "metadata": {
    "collapsed": false
   },
   "outputs": [],
   "source": [
    "import pandas as pd\n",
    "\n",
    "# Create a simple series\n",
    "series1 = pd.Series([-1, 2.5, 3,0],dtype='int32')\n",
    "print(series1)"
   ]
  },
  {
   "cell_type": "markdown",
   "metadata": {},
   "source": [
    "The series above has two columns, a column of indices, and a column of data which  we passed into the `pd.Series` as an argument. It also has a datatype, `dtype`, of what is stored in the series.\n",
    "\n",
    "To access individual entries of the series, then you can access it like a list or a dictionary. Series also allow for looping over their contents similar to dictionaries"
   ]
  },
  {
   "cell_type": "code",
   "execution_count": null,
   "metadata": {
    "collapsed": false
   },
   "outputs": [],
   "source": [
    "# Access the fourth entry of the series\n",
    "something = series1[3]\n",
    "print(\"something is\",something)\n",
    "\n",
    "# Loop over the series and just print out\n",
    "for index,value in series1.items(): # Get both index and value\n",
    "    print(\"series[{0}] =\".format(index),value)"
   ]
  },
  {
   "cell_type": "markdown",
   "metadata": {},
   "source": [
    "## Working with indices\n",
    "Indices can be customized which is useful when you may find it easier to access your data according to some information.\n",
    "\n",
    "Consider the following table of data which has the years of the Super Bowl winners since 2000"
   ]
  },
  {
   "cell_type": "code",
   "execution_count": null,
   "metadata": {
    "collapsed": false
   },
   "outputs": [],
   "source": [
    "# A list of years and Super Bowl champions\n",
    "years = list(range(2000,2018))\n",
    "champs = [\"Rams\",\"Ravens\",\"Patriots\",\"Buccaneers\",\"Patriots\",\"Patriots\",\"Steelers\",\"Colts\",'Giants',\"Steelers\",\"Saints\",\"Packers\",\"Giants\",\"Ravens\",\"Seahawks\",\"Patriots\",\"Broncos\",\"Patriots\"]\n",
    "\n",
    "# Store it inside a data series\n",
    "superbowls = pd.Series(champs,index=years,name=\"Super Bowl Champs\")\n",
    "print(\"List of superbowl champions\")\n",
    "print(superbowls)\n",
    "\n",
    "# Print out who won in 2013\n",
    "print(\"\\nThe\",superbowls[2013],\"won in 2013\\n\")\n",
    "\n",
    "# To find the years won by the Patriots you can also do masking\n",
    "print(superbowls[superbowls == \"Patriots\"])\n",
    "\n",
    "# To find the number of Superbowl wins by each team\n",
    "print()\n",
    "print(superbowls.value_counts())\n"
   ]
  },
  {
   "cell_type": "code",
   "execution_count": null,
   "metadata": {
    "collapsed": false
   },
   "outputs": [],
   "source": [
    "# Compute number of championships for each \n",
    "numchips = superbowls.value_counts()\n",
    "mask = numchips >= 2\n",
    "print(mask)\n",
    "print()\n",
    "print(numchips[mask])"
   ]
  },
  {
   "cell_type": "markdown",
   "metadata": {},
   "source": [
    "## Accessing Slices of Data\n",
    "\n",
    "The `Series` type lets you access slices of the data by either the index number or by label. There are several methods which the `Series` type exposes to you to access slices of data.\n",
    "\n",
    "### The `[]` command\n",
    "`Series` objects can have data accessed by label or by giving slices of integer positions (0 = first entry, 1 = second entry, ...). Basically it has the following rules\n",
    "- If `[label1, label2, ...]` is a list of *labels*, then `series[[label1, label2, ...]]` creates a new Series with only the data from the desired labels\n",
    "- If you want to know every entry between the *i*th label and the *j*th label, then `series[i:j]` will return a `Series` with entries given by the label range. If you want every *k* labels, then `series[i:j:k]` will return a `Series` object with labels `i`, `i+k`, `i+2k`, ... until it reaches j.\n",
    "- Any sort of mask series will also work as demonstrated above."
   ]
  },
  {
   "cell_type": "code",
   "execution_count": null,
   "metadata": {
    "collapsed": false
   },
   "outputs": [],
   "source": [
    "# Access first four entries of championships, accessed by position\n",
    "print(\"First four entries of superbowl Series:\")\n",
    "print(superbowls[0:5]) # Note that this does not print the entry superbowls[5]!\n",
    "\n",
    "# Equivalent things\n",
    "# print(superbowls[:5])\n",
    "# print(superbowls[list(range(2000,2005))]) # Provide a list of labels [2000, 2001, 2002, 2003, 2004]\n",
    "\n",
    "# Get a series for years 2000, 2005, 2007, 2014\n",
    "print(superbowls[[2000,2005,2007,2014]])"
   ]
  },
  {
   "cell_type": "markdown",
   "metadata": {},
   "source": [
    "### The `loc[]` and `iloc[]` commands\n",
    "the `loc[]` and `iloc[]` commands provide separate interfaces for getting slices of data using either label or integer positions of data.\n",
    "\n",
    "The `loc[]` method provides a label based interface for getting slices of data from Series. It is used similar to the `[]` above when using labels, but allows for a notation similar to the integer-based start:stop:stride splicing. It differs from what you usually see because the stop label is included!\n",
    "\n",
    "The `iloc[]` method is similar to `loc[]` but its arguments must be integers or booleans! It also conforms to traditional Python slicing (start:stop:stride). That means that you can do things like `series.iloc[::stride]` or `series.iloc[start::stride]` which are not doable in `loc[]`."
   ]
  },
  {
   "cell_type": "code",
   "execution_count": null,
   "metadata": {
    "collapsed": false
   },
   "outputs": [],
   "source": [
    "# Get the champions for every three years between 2007 and 2016\n",
    "print(superbowls.loc[2007:2016:3])\n",
    "\n",
    "# Get every 4 champions starting from 2000\n",
    "print(superbowls.iloc[::4])"
   ]
  },
  {
   "cell_type": "markdown",
   "metadata": {},
   "source": [
    "## DataFrames\n",
    "Data Frames are collections of `Series` and can be thought of as the rough equivalent to a single sheet in Excel. Download the superbowlinfo.csv file from the Google Drive. "
   ]
  },
  {
   "cell_type": "code",
   "execution_count": null,
   "metadata": {
    "collapsed": false
   },
   "outputs": [],
   "source": [
    "import numpy as np\n",
    "\n",
    "# Use pandas.read_csv to read in a CSV file using custom headers for the column information\n",
    "SuperBowlInfo = pd.read_csv(\"superbowlinfo.csv\",\n",
    "                            names=[\"Date\",\"SB\",\"Winner\",\"Winner Pts\",\"Loser\",\"Loser Pts\",\"MVP\",\"Stadium\",\"City\",\"State\"],\n",
    "                            skiprows=1) # Skip the first line of CSV file\n"
   ]
  },
  {
   "cell_type": "markdown",
   "metadata": {},
   "source": [
    "Data in Data Frames are arranged in *column* order, meaning that things are stored contiguously in column order. "
   ]
  },
  {
   "cell_type": "code",
   "execution_count": null,
   "metadata": {
    "collapsed": false
   },
   "outputs": [],
   "source": [
    "cities = SuperBowlInfo['City']\n",
    "print(cities)"
   ]
  },
  {
   "cell_type": "markdown",
   "metadata": {
    "collapsed": false
   },
   "source": [
    "## Doing basic data analysis with Data Frames\n",
    "\n",
    "Using this table, we can start doing basic data analysis with Pandas Data Frames. The first things we can look at is which teams have the most victories at the Super Bowl, which teams have had the most losses, and total Super Bowl appearances.\n",
    "\n",
    "To get the number of victories, we can just count how many times each team appears in the `\"Winners\"` column. Using the `value_counts` method, we can count the number of time a certain team appears in the winners column."
   ]
  },
  {
   "cell_type": "code",
   "execution_count": null,
   "metadata": {
    "collapsed": false
   },
   "outputs": [],
   "source": [
    "# Get winners by accessing \"Winner\" column in SuperBowlInfo\n",
    "winner_count = SuperBowlInfo[\"Winner\"].value_counts()\n",
    "print(\"List of winners by number of victories\")\n",
    "print(winner_count)\n",
    "\n",
    "# Get losers by the same process\n",
    "loser_count = SuperBowlInfo[\"Loser\"].value_counts()\n",
    "print(\"\\nLosers by number of losses\")\n",
    "print(loser_count)"
   ]
  },
  {
   "cell_type": "markdown",
   "metadata": {},
   "source": [
    "How do we rank these teams? Let's take the following into consideration when trying to design a ranking system:\n",
    "1. Wins should be good while losses should be bad\n",
    "2. A team which appears in the Super Bowl more times than another should be considered better.\n",
    "\n",
    "We can try to keep the model simple by just considering the ratio of the difference of wins to losses by the total number of games. Something like\n",
    "\n",
    "    rank_val = ( # wins - # losses ) / ( # wins + # losses)\n",
    "let's see how this works!"
   ]
  },
  {
   "cell_type": "code",
   "execution_count": null,
   "metadata": {
    "collapsed": false
   },
   "outputs": [],
   "source": [
    "# Compute difference\n",
    "difference = winner_count - loser_count\n",
    "total_games = winner_count + loser_count\n",
    "rank_val = difference / total_games\n",
    "print(rank_val)"
   ]
  },
  {
   "cell_type": "markdown",
   "metadata": {},
   "source": [
    "We see that the data has a lot of `NaN` or \"Not a Number\" values. These happen because not every team which appears in the winners list does not appear in the losers list, and vice versa. Therefore we need a way to sensibly clean the data.\n",
    "\n",
    "Fortunately, the `pandas.Series` class provides an `add` function which lets us set default values for missing indices by setting a `fill_values` argument to some value. Setting the `fill_value` to 0 should fix the problem."
   ]
  },
  {
   "cell_type": "code",
   "execution_count": null,
   "metadata": {
    "collapsed": false
   },
   "outputs": [],
   "source": [
    "% matplotlib inline\n",
    "difference = winner_count.subtract(loser_count, fill_value=0)\n",
    "total_games = winner_count.add(loser_count, fill_value=0)\n",
    "rank_val = difference / total_games\n",
    "\n",
    "# Let's sort the Series by its values, and plot a bar chart\n",
    "fig = rank_val.sort_values().plot(kind='bar')"
   ]
  },
  {
   "cell_type": "markdown",
   "metadata": {},
   "source": [
    "### Getting basic statistics\n",
    "\n",
    "Pandas provides basic statistics for `Series` objects including mean, median, standard deviation, etc. These can be done with the `pandas.Series.mean()`, `pandas.Series.median()`, `pandas.Series.std()` methods respectively.\n",
    "\n",
    "Another nice method is the `pandas.Series.describe()`, which prints a Series of basic statistics about a Series."
   ]
  },
  {
   "cell_type": "code",
   "execution_count": null,
   "metadata": {
    "collapsed": false
   },
   "outputs": [],
   "source": [
    "rank_val.describe()"
   ]
  },
  {
   "cell_type": "markdown",
   "metadata": {},
   "source": [
    "From this we see that the median score of 0 with a mean score of -0.092115 tells us that there are slightly more teams which lose.\n",
    "\n",
    "## Predicting Frequencies in Super Bowl Scores\n",
    "\n",
    "A popular Super Bowl tradition is the office \"pool\" where people wager on the last digit of the final score at each quarter. This is complicated because the (American) football score tends to increase only by certain numbers. Points are scored in the following ways\n",
    "- Touchdown: 6 points\n",
    "  - 1-point conversion (field goal): +1 points (7 points total)\n",
    "  - 2-point conversion (extra down): +2 points (8 points total)\n",
    "- Field goal: 3 points\n",
    "- Safety: 2 points\n",
    "\n",
    "Therefore, we may want to see the relative frequencies in which the two teams' scores appear. In particular, we will create a heat map with the possible last digit combinations appear."
   ]
  },
  {
   "cell_type": "code",
   "execution_count": null,
   "metadata": {
    "collapsed": false
   },
   "outputs": [],
   "source": [
    "winner_pts = SuperBowlInfo[\"Winner Pts\"]\n",
    "loser_pts = SuperBowlInfo[\"Loser Pts\"]\n",
    "\n",
    "# Get the last digits for both winners and losers\n",
    "winner_digit = winner_pts % 10\n",
    "loser_digit = loser_pts % 10"
   ]
  },
  {
   "cell_type": "markdown",
   "metadata": {},
   "source": [
    "The simplest case is to just plot the colors on a square grid with one axis being the winner's last digit and the other axis being the loser's last digit. We can store these relative frequencies inside a NumPy matrix."
   ]
  },
  {
   "cell_type": "code",
   "execution_count": null,
   "metadata": {
    "collapsed": false
   },
   "outputs": [],
   "source": [
    "import numpy as np\n",
    "total_games = winner_pts.count()                 # total number of games (51)\n",
    "\n",
    "# Initialize NumPy multiarray with total count that winner has last digit \"i\" and loser has last digit \"j\"\n",
    "array_count = np.zeros([10,10],dtype=np.float64)\n",
    "\n",
    "# Get number of times a particular (wdig,ldig) instance occurs\n",
    "for ind,wdig in winner_digit.items():\n",
    "    ldig = loser_digit[ind]\n",
    "    array_count[wdig,ldig] += 1\n",
    "\n",
    "# Normalize to get relative frequency\n",
    "array_count /= total_games"
   ]
  },
  {
   "cell_type": "code",
   "execution_count": null,
   "metadata": {
    "collapsed": false
   },
   "outputs": [],
   "source": [
    "import matplotlib.pyplot as plt\n",
    "def create_heat_map(mat):\n",
    "    '''\n",
    "    create_heat_map Create a heat map for a NumPy multiarray.    \n",
    "    '''\n",
    "    import numpy as np\n",
    "\n",
    "    # Create heatmap from numpy array\n",
    "    heatmap = plt.pcolor(mat,cmap=plt.cm.Blues,alpha=0.8)\n",
    "\n",
    "    # Modify axis\n",
    "    ax = plt.gca()\n",
    "    ax.set_frame_on(False)\n",
    "\n",
    "    # Position ticks and create tick lables\n",
    "    ax.set_xticks(np.arange(10) + 0.5, minor=False)\n",
    "    ax.set_yticks(np.arange(10) + 0.5, minor=False)\n",
    "    ytick_labels = np.arange(mat.shape[0])\n",
    "    xtick_labels = np.arange(mat.shape[1])\n",
    "    ax.set_xticklabels(xtick_labels)\n",
    "    ax.set_yticklabels(ytick_labels)\n",
    "    ax.grid(False)\n",
    "    \n",
    "    return heatmap"
   ]
  },
  {
   "cell_type": "code",
   "execution_count": null,
   "metadata": {
    "collapsed": false
   },
   "outputs": [],
   "source": [
    "heatmap = create_heat_map(array_count)\n",
    "ax = heatmap.axes\n",
    "ax.set_xlabel(\"Loser Last Digit\")\n",
    "ax.set_ylabel(\"Winner Last Digit\")"
   ]
  },
  {
   "cell_type": "markdown",
   "metadata": {},
   "source": [
    "The heat map shows a few spots which are fairly hotter than the others, especially (4,7) and (1,7). In particular, the losing team having seven points is likely due to them having 7 points (one touchdown + 1-point conversion) or 17 \n",
    "\n",
    "However in practice, people wager before they know the results of the game. In that case, all you know is which team is \"home\" and which team is \"away\". Therefore, the heat map is not indicative of the true probabilities of the game! Assuming that the winner is just as likely to be the home team as the away team, it may make more sense to approximate the heat map for home team and away team.\n",
    "\n",
    "We could reason that the probability of the home team's digit (`H`) and the away team's digit (`A`) is a result of the conditional probabilities of the home team being the winner or loser and, by symmetry, the away team being the loser or winner. Therefore the probability of `H=i` and `A=j` is given as\n",
    "\n",
    "    P(H=i,A=j) = P(H=W,A=L) * P(W=i,L=j) + P(H=L,A=W) * P(W=j,L=i)\n",
    "    \n",
    "Assuming that there is no \"home\" advantage (since usually the stadium is the home of neither team), then the conditional probabilites should both be 0.5. Therefore we get that\n",
    "\n",
    "    P(H=i,A=j) = 0.5(array_count + array_count.transpose())"
   ]
  },
  {
   "cell_type": "code",
   "execution_count": null,
   "metadata": {
    "collapsed": false
   },
   "outputs": [],
   "source": [
    "heatmap2 = create_heat_map((array_count + array_count.transpose()) * 0.5)\n",
    "ax = heatmap2.axes\n",
    "ax.set_xlabel(\"Away Last Digit\")\n",
    "ax.set_ylabel(\"Home Last Digit\")"
   ]
  },
  {
   "cell_type": "markdown",
   "metadata": {},
   "source": [
    "We see that the joint probabilities are symmetric, but also that the highest spots possible are `(4,7)` and `(7,4)` with `(7,7)` also being somewhat probable. Therefore, if you want to impress your friends (and hopefully win some money) your best bets are on these spots!"
   ]
  },
  {
   "cell_type": "code",
   "execution_count": null,
   "metadata": {
    "collapsed": true
   },
   "outputs": [],
   "source": []
  }
 ],
 "metadata": {
  "anaconda-cloud": {},
  "kernelspec": {
   "display_name": "Python [conda root]",
   "language": "python",
   "name": "conda-root-py"
  },
  "language_info": {
   "codemirror_mode": {
    "name": "ipython",
    "version": 3
   },
   "file_extension": ".py",
   "mimetype": "text/x-python",
   "name": "python",
   "nbconvert_exporter": "python",
   "pygments_lexer": "ipython3",
   "version": "3.5.2"
  }
 },
 "nbformat": 4,
 "nbformat_minor": 2
}
