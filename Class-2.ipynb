{
 "cells": [
  {
   "cell_type": "markdown",
   "metadata": {},
   "source": [
    "Go to https://docs.python.org/3/tutorial/\n",
    "\n",
    "Today we aim to cover sections 4 and 5 and will use the below to augment the presentation in the tutorial.\n",
    "\n",
    "Chapter 4\n"
   ]
  },
  {
   "cell_type": "markdown",
   "metadata": {},
   "source": [
    "### Conditionals --- if tests\n",
    "\n",
    "Compare values, make decisions, perform different operations depending on the value of data\n",
    "\n",
    "Examples:\n",
    "\n",
    "* check that `x` (a float) is less than or equal to 100.0\n",
    "  - if it is then print `\"good\"` otherwise print `\"bad\"`\n",
    "* check that x is greater than -10.0\n",
    "* check that x is in the range -10 < x <= 100\n",
    "* check that x is outside this range\n",
    "  - can you come up with at least two ways do to this?  which one is more readable to you?"
   ]
  },
  {
   "cell_type": "code",
   "execution_count": null,
   "metadata": {
    "collapsed": true
   },
   "outputs": [],
   "source": []
  },
  {
   "cell_type": "markdown",
   "metadata": {},
   "source": [
    "What other comparison or operations are there?  \n",
    "\n",
    "Go look in the language reference --- select 5.9 comparisons\n",
    "\n",
    "Examples:\n",
    "* test if a string contains the letter `\"a\"`\n",
    "* test if a string does not contain the letter `\"a\"`\n"
   ]
  },
  {
   "cell_type": "code",
   "execution_count": null,
   "metadata": {
    "collapsed": true
   },
   "outputs": [],
   "source": []
  },
  {
   "cell_type": "markdown",
   "metadata": {},
   "source": [
    "### Iteration using a `for` loop\n",
    "\n",
    "Often the most intuitive, readable, and easiest mechanism to do something to/with a sequence (e.g., list or string) or other container of things.  Indeed, anything over which you can iterate --- an iterable.\n",
    "\n",
    "```\n",
    "   for item in <iterable>:\n",
    "      do something with item\n",
    "      do something else with item\n",
    "      etc.\n",
    "```\n",
    "\n",
    "Example: \n",
    "* print one per line all of the characters in the string `\"Howdy, stranger!\"`\n",
    "* find the largest element in the list `[-1,-2,10,1,20]`\n",
    "* count the number of items in the same list\n",
    "  - note the builtin function `len()` that does this for you\n",
    "  - modify your loop to print out each item along with its index, i.e., print\n",
    "```\n",
    "0 -1\n",
    "1 -2\n",
    "2 10\n",
    "3 1\n",
    "4 20\n",
    "```\n",
    "  - we will disover the function enumerate that will make this much easier\n",
    "* count the number of values `>= 10` in the same list\n",
    "* concatenate into one string all of the words in the list `['My','fave','color','is','blue']`\n",
    "  - next, do the same but with a space between each word\n"
   ]
  },
  {
   "cell_type": "code",
   "execution_count": null,
   "metadata": {
    "collapsed": false
   },
   "outputs": [],
   "source": []
  },
  {
   "cell_type": "markdown",
   "metadata": {},
   "source": [
    "### range - powerful tool for constructing sequences of integers\n",
    "\n",
    "\n",
    "Can you find its documentation?  [hint: follow the link in the tutorial]\n",
    "\n",
    "A range is an iterable that produces the specified sequence of values - it does not literally create the list which means you can compute efficiently with truly huge ranges without running out of memory.\n",
    "\n",
    "Examples: \n",
    "* print numbers `0,1,...,10`\n",
    "* what is the sum of the numbers `0,1,...,10`\n",
    "  - first use a for loop\n",
    "  - then use the builtin function sum --- look here for all of the builtins\n",
    "    https://docs.python.org/3/library/functions.html)\n",
    "* what about summing the sequence `1000000,999997,999994,...,-1001` inclusive\n",
    "  - hint: my answer is `166666999166`\n",
    "* example: nested loop --- print all pairs of integers `(i,j)` such that `0<=i<8` and `0<=j<i`\n",
    "  - what if we wanted `j<=i` ?"
   ]
  },
  {
   "cell_type": "code",
   "execution_count": null,
   "metadata": {
    "collapsed": true
   },
   "outputs": [],
   "source": []
  },
  {
   "cell_type": "markdown",
   "metadata": {},
   "source": [
    "### Break, continue and else on loops\n",
    "\n",
    "Break - exits the loop skipping any remaining code in the loop just as if you had jumped to statement immediately following the loop\n",
    "*  Use cases: perhaps you found what you were looking for, or some algorithm has converged (or failed), etc\n",
    "\n",
    "Continue - starts the next iteration of the loop (or finishes if no work is left) skipping any remaining code in the loop just as if you had jumped back to the top of the loop.\n",
    "*  Use cases: some data dependent computation should not happen\n",
    "\n",
    "The full specification of a `for` loop includes an optional `else` clause that is always executed unless you break out of the loop \n",
    "\n",
    "Example: \n",
    "* Given some value `x` and a list of values, return the index of the first occurence of `x` in the list, and raise a `ValueError` if it is not found.\n",
    "  - hint --- start from the example above that printed out each element along with its index\n",
    "* Note that there is a list method that already does this --- using existing (especially builtin) functionality is a **very good** thing to do\n",
    "  - less code for you to write\n",
    "  - less errors for you to make\n",
    "  - extensively tested on all sorts of possible inputs\n",
    "  - probably much faster\n",
    " \n",
    "Test with \n",
    "```\n",
    " values = [-1,99,44.0,3.14,'hello',99.03]\n",
    "```\n",
    "and with both `x = 'hello'` and `x = 47`\n",
    " \n",
    "Now set `values` to a string (make something up!) and test with several `x`'s in the string and also not in the string. "
   ]
  },
  {
   "cell_type": "code",
   "execution_count": null,
   "metadata": {
    "collapsed": false
   },
   "outputs": [],
   "source": []
  },
  {
   "cell_type": "markdown",
   "metadata": {
    "collapsed": true
   },
   "source": [
    "The best way to do this is to use the method Python provides for all sequence types\n",
    "\n",
    "Can you find the documentation for sequences (hint: look in the library reference)\n",
    "\n",
    "Can you find the method you need?\n",
    "\n",
    "Can you write code to show how to use it?"
   ]
  },
  {
   "cell_type": "code",
   "execution_count": null,
   "metadata": {
    "collapsed": true
   },
   "outputs": [],
   "source": []
  },
  {
   "cell_type": "markdown",
   "metadata": {},
   "source": [
    "### Pass - does nothing!"
   ]
  },
  {
   "cell_type": "code",
   "execution_count": null,
   "metadata": {
    "collapsed": true
   },
   "outputs": [],
   "source": []
  },
  {
   "cell_type": "markdown",
   "metadata": {},
   "source": [
    "### Functions - used to  group reusable blocks of code parameterized by arguments\n",
    "\n",
    "You have used lots already `min()`, `max()`, `print()`, `str.index(x)`, `sum()`, ...\n",
    "\n",
    "Find the full documentation in the language reference - but, sigh, it is not very useful since there is a lot of detail 99% of people will never use.\n",
    "* also refer to \n",
    "  - https://python.swaroopch.com/functions.html\n",
    "  - http://www.openbookproject.net/books/bpp4awd/ch05.html\n",
    "\n",
    "Let's write and then modify a function to compute the sum of two numbers in order to explore the basic concepts for simple functions\n",
    "* declaration of a function\n",
    "* parameters\n",
    "* indenting\n",
    "* returning a value - zero, one, and multiple return statements\n",
    "* calling a function and passing actual values (arguments)\n",
    "  - you might google 'arguments vs. parameters'\n"
   ]
  },
  {
   "cell_type": "code",
   "execution_count": null,
   "metadata": {
    "collapsed": true
   },
   "outputs": [],
   "source": []
  },
  {
   "cell_type": "markdown",
   "metadata": {},
   "source": [
    "More examples for functions:\n",
    "* write a function to compute the sum i for i=0,...n-1 for any n\n",
    "* write a function to return true if |n|<10 and n**3 < 700 and sum i for (i=0..n-1) is < 77\n",
    "* find the smallest integer that violates this condition using no more than 3 lines of new code\n",
    "\n",
    "\n",
    "\n",
    "  scope --- local, global, builtin\n",
    "\n",
    "  --- default values\n",
    "\n",
    "  --- passing by position or by name\n",
    "\n",
    "  --- save variadic for later or never"
   ]
  },
  {
   "cell_type": "code",
   "execution_count": null,
   "metadata": {
    "collapsed": true
   },
   "outputs": [],
   "source": []
  },
  {
   "cell_type": "markdown",
   "metadata": {},
   "source": [
    "More on functions\n",
    "* scope\n",
    "  - local, global, builtin\n",
    "* changing the value of arguments (mutables v.s. immutables)\n",
    "  - Arguments are names of values that exist in the local scope\n",
    "  - So inside a function, assigning a new value to one of the function arguments does not change the corresponding value in the calling scope\n",
    "    * this is called pass by value (i.e., as if you had been given a copy of the value and therefore cannot reference the original value)\n",
    "  - try this now!"
   ]
  },
  {
   "cell_type": "code",
   "execution_count": 1,
   "metadata": {
    "collapsed": false
   },
   "outputs": [
    {
     "name": "stdout",
     "output_type": "stream",
     "text": [
      "1\n",
      "[1, 2, 3]\n"
     ]
    }
   ],
   "source": [
    "def fred(a):\n",
    "    a = 99\n",
    "\n",
    "x = 1\n",
    "fred(x)\n",
    "print(x)\n",
    "\n",
    "x=[1,2,3]\n",
    "fred(x)\n",
    "print(x)"
   ]
  },
  {
   "cell_type": "markdown",
   "metadata": {},
   "source": [
    "But if an argument is a list (or dictionary, or any mutable) changing a value **within** the list is visble to the calling routine \n",
    "*  why is this?  why do we have mutable data? \n",
    "  - imagine you need to make lots of small changes to a really long list - if you had to take a complete copy (like you have to do with strings which are immutable) everytime you need to make a change this would be very slow and also waste memory.   \n",
    "  - Thus, being able to change the list **inplace** is a big optimization and can also simplify coding\n",
    "* since we want to use functions to resuse code and to have readable programs, we need to have functions able to modify list arguments inplace.  \n",
    "  - Technically this is called **shallow** copy (as opposed to a **deep** or complete copy).\n",
    "* Try to predict what the following code will do then run it"
   ]
  },
  {
   "cell_type": "code",
   "execution_count": null,
   "metadata": {
    "collapsed": false
   },
   "outputs": [],
   "source": [
    "def tweaker(a,n):\n",
    "    a[n:n+1] = [a[n]-1,a[n],a[n]+1]  # Can you figure out what this is doing?\n",
    "\n",
    "x = [0,5,10,15,20]\n",
    "print(x)\n",
    "tweaker(x,1)\n",
    "print(x)\n",
    "tweaker(x,3)\n",
    "print(x)"
   ]
  },
  {
   "cell_type": "markdown",
   "metadata": {},
   "source": [
    "To be consistent, lists (and other mutables) have shallow copy in other contexts.\n",
    "\n",
    "Indeed, a slightly more detailed picture of what is going on will make the behavior of all data types completely consistent.\n",
    "\n",
    "When you assign a value to a variable (or the argument of a function) what you are doing is making the name of the variable (or argument) refer to the location in memory where the value is stored.  \n",
    "\n",
    "Thus, when you do \n",
    "```\n",
    "  x = 1\n",
    "  y = x\n",
    "```\n",
    "both `x` and `y` are refering to the same location in memory where the number `1` is stored.  \n",
    "\n",
    "When you assign another value to one of the variables you are making that variable refer to a different location in memory.  E.g.,\n",
    "```\n",
    "  y = 2\n",
    "```\n",
    "The variable `y` now refers to the location in memory where the value `2` is stored.  All other variables and values are completely unaffected by doing this.  I.e., if you print out `x` it will still show as having the value `1`.  \n",
    "\n",
    "The same is true even if the values are lists.  Doing \n",
    "```\n",
    " x = [1,2,3]\n",
    " y = x\n",
    "```\n",
    "again causes both `x` and `y` to refer to the same location in memory where the list `[1,2,3]` is stored - i.e., the two variables are referring to the same actual list.  Again, assigning to `y`, e.g., with \n",
    "```\n",
    "  y = 2\n",
    "```\n",
    "will only change the variable `y` (to refer to the value `2`) and not affect `x`, or the list, or anything else.\n",
    "\n",
    "But, again looking at this example\n",
    "```\n",
    " x = [1,2,3]\n",
    " y = x\n",
    "```\n",
    "since both `x` and `y` refer to the **same** list, it should be apparent that we can change the contents **inside** the list using either variable.  E.g.,\n",
    "```\n",
    " x[1]=99\n",
    " print(y[1])\n",
    " y[1]=27\n",
    " print(x[1])\n",
    "```\n",
    "Here we are not changing the variables `x` or `y` - they are always referring to the same list.  What we are doing is changing the list itself, clearly illustrating that it is the list that is mutable.\n",
    "\n",
    "If you are having trouble wrapping your mind around this, don't sweat it for now.   99% of the time Python is doing exactly what you want to have happen so soon you will blissfully forget this behavior.  \n",
    "\n",
    "However, every now and again you may need to modify a list (or some other mutable) while also keeping the original unchanged.  To do this you need to take a **deep** copy of the original list.  There are a couple of simple ways of doing this for lists:\n",
    "```\n",
    "a=['fred','mary']\n",
    "b=a[:]    # takes a copy of all of the contents of a and makes a new list\n",
    "b=list(a) # ditto\n",
    "```\n",
    "It gets a bit more complicated if your list contains other lists, etc., in which case you may need to use `deepcopy` from the copy module.  But that is getting way more advanced that is appropriate for this course.\n",
    "\n",
    "Example:\n",
    "* what do you expect this code to print? why?\n",
    "* copy/type it and run it\n",
    "\n",
    "```\n",
    "a=1\n",
    "b=a\n",
    "a=99\n",
    "print('a =', a, '  b =',b) # predict output\n",
    "b=77\n",
    "print('a =', a, '  b =',b) # predict output\n",
    "\n",
    "a=[1,2,3]\n",
    "b=a\n",
    "a=[4,5,6]\n",
    "print('a =', a, '  b =',b) # predict output\n",
    "b=77\n",
    "print('a =', a, '  b =',b) # predict output\n",
    "\n",
    "a=[1,2,3]\n",
    "b=a\n",
    "a[1]=99\n",
    "print('a =', a, '  b =',b) # predict output\n",
    "b[2]=-1\n",
    "print('a =', a, '  b =',b) # predict output\n",
    "\n",
    "a=[1,2,3]\n",
    "b=a[:]\n",
    "a[1]=99\n",
    "print('a =', a, '  b =',b) # predict output\n",
    "b[2]=-1\n",
    "print('a =', a, '  b =',b) # predict output\n",
    "```"
   ]
  },
  {
   "cell_type": "code",
   "execution_count": null,
   "metadata": {
    "collapsed": true
   },
   "outputs": [],
   "source": []
  },
  {
   "cell_type": "markdown",
   "metadata": {},
   "source": [
    "Even more on functions\n",
    "\n",
    "* default values\n",
    "* passing by position or by name\n",
    "* save variadic for later or never\n"
   ]
  },
  {
   "cell_type": "code",
   "execution_count": null,
   "metadata": {
    "collapsed": true
   },
   "outputs": [],
   "source": []
  },
  {
   "cell_type": "markdown",
   "metadata": {},
   "source": [
    "### Docstrings - are cool and useful\n",
    "\n",
    "You've used `help()` and `?` already inside jupyter on builtin and library functions - you can make it work for your functions too.\n",
    "\n",
    "Run the following\n"
   ]
  },
  {
   "cell_type": "code",
   "execution_count": null,
   "metadata": {
    "collapsed": false
   },
   "outputs": [],
   "source": [
    "def buy_pizza(store_url, max_price, delivery_adress):\n",
    "    '''\n",
    "    Orders pizza from the specified store up to the maximum price and arranges for delivery to the given address.\n",
    "\n",
    "    Returns the actual price and raises ValueError if the maximum price was exceeded.\n",
    "    \n",
    "    Implementation deferred.\n",
    "    '''\n",
    "    pass\n",
    "\n",
    "help(buy_pizza)\n",
    "buy_pizza('http://pizzaonline.com',20,'1 Circle Drive, Stony Brook, NY 11794')"
   ]
  },
  {
   "cell_type": "code",
   "execution_count": null,
   "metadata": {
    "collapsed": true
   },
   "outputs": [],
   "source": []
  },
  {
   "cell_type": "markdown",
   "metadata": {},
   "source": [
    "### Coding style - clean, consistent, readable code makes you and others more productive\n",
    "\n",
    "There is no one best style (so don't get too dogmatic about your favorite), but some are definitely worse than others.\n"
   ]
  },
  {
   "cell_type": "code",
   "execution_count": null,
   "metadata": {
    "collapsed": true
   },
   "outputs": [],
   "source": []
  },
  {
   "cell_type": "markdown",
   "metadata": {},
   "source": [
    "### Chapter 5 of the tutorial\n",
    "\n",
    "Lists in more detail\n",
    "\n",
    "List comprehensions --- terse but powerful\n",
    "* The example of nested comprehensions is incomprehensible!\n",
    "  - We will be using the numpy module to do matrix operations so ignore that for now\n",
    "\n",
    "Tuples\n",
    "* Like lists but immutable\n",
    "* Since tuples are immutable they can be used as keys into a dictionary\n",
    "* Already encountered in functions that return multiple values or in multiple assignments\n",
    "  - example of swapping numbers, returning multiple values, iterating using enumerate\n",
    "\n",
    "Sets\n",
    "\n",
    "Dictionaries --- a very powerful and flexible container\n",
    "* Also called an \"associative array\", a \"key-value store\", a map, etc.\n",
    "* Examples of how to iterate over keys, values, key-value pairs, etc.?\n",
    "* Example of how to invert a dictionary (e.g., person to address, address to person)\n",
    "  - what happens if two people have the same address?\n",
    "  \n",
    "```\n",
    "for key in d:\n",
    "    do something with key or the associated value in d[key]\n",
    "    \n",
    "# This form is preferred if you plan to use the value since it is both more readable and more efficient\n",
    "for key,value in d.items():\n",
    "    do something with key and value (which is the same value as d[lkey])\n",
    "```\n",
    "\n",
    "Looping --- enumerate, zip, reversed, sorted\n",
    "* Very useful for correctness and speed\n",
    "* More on `if` conditions --- seen some of this already\n",
    "\n"
   ]
  },
  {
   "cell_type": "code",
   "execution_count": null,
   "metadata": {
    "collapsed": true
   },
   "outputs": [],
   "source": []
  },
  {
   "cell_type": "markdown",
   "metadata": {},
   "source": [
    "### Reading and practice before Monday\n",
    "\n",
    "* review sections 4 and 5 (we just did these)\n",
    "* actually read sections 6 and 7 (except 7.2.2)\n",
    "* actually read markdown basics --- follow link from Jupyter or go to\n",
    "  https://help.github.com/articles/basic-writing-and-formatting-syntax/\n",
    "* read about turtle graphics, run some of the examples you find, try writing something even if it is very simple\n",
    "  - we will play with this in class to practice loops and logic etc.\n",
    "  - here are pointers to documentation for turtle\n",
    "\n",
    "http://www.eg.bucknell.edu/~hyde/Python3/TurtleDirections.html\n",
    "https://docs.python.org/release/3.6.0/library/turtle.html\n",
    "\n"
   ]
  },
  {
   "cell_type": "code",
   "execution_count": null,
   "metadata": {
    "collapsed": true
   },
   "outputs": [],
   "source": []
  }
 ],
 "metadata": {
  "anaconda-cloud": {},
  "kernelspec": {
   "display_name": "Python [default]",
   "language": "python",
   "name": "python3"
  },
  "language_info": {
   "codemirror_mode": {
    "name": "ipython",
    "version": 3
   },
   "file_extension": ".py",
   "mimetype": "text/x-python",
   "name": "python",
   "nbconvert_exporter": "python",
   "pygments_lexer": "ipython3",
   "version": "3.5.2"
  }
 },
 "nbformat": 4,
 "nbformat_minor": 1
}
