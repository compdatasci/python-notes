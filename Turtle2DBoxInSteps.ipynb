{
 "cells": [
  {
   "cell_type": "markdown",
   "metadata": {},
   "source": [
    "# Bouncing balls in a 2D box\n",
    "\n",
    "We're going to make a bunch of balls bounce around in a 2D box.  Sounds like fun?  It is also on the path to being scientifically interesting.  \n",
    "\n",
    "Instead, thing about simulating and visualizing a gas of non-interacting atoms moving in a 2D box.  What does that mean?\n",
    "\n",
    "Simulating - using a computer to solve the equations that describe a (simplified) mathematical model of the system of interest.\n",
    "\n",
    "Visualization - graphically displaying the results so you can see what is going on.\n",
    "\n",
    "Gas - think of the air around us.  Simplistically, it is comprised of tiny particles (atoms or molecules) in free motion, occasionally bumping into each other or the walls of the box.\n",
    "\n",
    "Non-interacting - we will ignore the atoms bumping into each other (another turtle code example example illustrates how we can include interactions).  \n",
    "\n",
    "OK - forget about atoms and molcules - back to balls.\n",
    "\n",
    "A ball in free motion (i.e., not interacting with anything) just moves in a straight line - it goes, and goes, and goes...  \n",
    "\n",
    "It looks like this:"
   ]
  },
  {
   "cell_type": "code",
   "execution_count": null,
   "metadata": {
    "collapsed": false
   },
   "outputs": [],
   "source": [
    "from turtle import *\n",
    "\n",
    "ball = Turtle()\n",
    "ball.penup()\n",
    "ball.shape(\"circle\")\n",
    "ball.color(\"blue\")\n",
    "ball.shapesize(1,1,1)\n",
    "\n",
    "vx, vy = 2, 3    # speed or velocity in the x and y directions\n",
    "x,y = -300.0,300.0\n",
    "for i in range(500):\n",
    "    x += vx\n",
    "    y -= vy\n",
    "    ball.setpos(x,y)"
   ]
  },
  {
   "cell_type": "markdown",
   "metadata": {},
   "source": [
    "A bit boring isn't it.  \n",
    "\n",
    "Let's put it in a box and make it bounce off the walls.\n",
    "\n",
    "First, let's draw a square box."
   ]
  },
  {
   "cell_type": "code",
   "execution_count": null,
   "metadata": {
    "collapsed": false
   },
   "outputs": [],
   "source": [
    "def drawbox(L):\n",
    "    ''' Draws and fills a square with corners [L,L] and [-L,-L] '''\n",
    "    t = Turtle()\n",
    "    t.color('green','yellow')\n",
    "    t.penup()\n",
    "    t.goto((-L,-L))\n",
    "    t.begin_fill()\n",
    "    t.pendown()\n",
    "    for x,y in (-L,L),(L,L),(L,-L),(-L,-L):\n",
    "        t.goto(x,y)\n",
    "    t.end_fill()\n",
    "    t.hideturtle()\n",
    "\n",
    "L = 300\n",
    "drawbox(L)"
   ]
  },
  {
   "cell_type": "markdown",
   "metadata": {},
   "source": [
    "How to bounce the ball off the wall?   \n",
    "\n",
    "[Aside: We assume no friction, the ball is perfectly elastic, and the wall is perfectly rigid.]\n",
    "\n",
    "Imagine throwing a ball directly at the wall.  When it bounces  it starts moving in the opposite direction.  \n",
    "* I.e., its velocity perpendicular to the wall changes sign.  \n",
    "* If the wall is blocking the $+x$ direction of motion, this means that the $x$-component of the velocity changes sign. \n",
    "\n",
    "Our walls are at $-L$ and $+L$ in both the $x$ and $y$ directions.\n",
    "\n",
    "If the ball has bumped into or overshot a wall we must\n",
    "* change the sign of the corresponding velocity\n",
    "* reflect the ball back if it has overshot\n",
    "\n",
    "The following routine does this"
   ]
  },
  {
   "cell_type": "code",
   "execution_count": null,
   "metadata": {
    "collapsed": false
   },
   "outputs": [],
   "source": [
    "def bounce(x,vx):\n",
    "    ''' Bounce the ball off the walls returning new position and velocity '''\n",
    "    if x >= L:       # Check if ball has hit or gone past the wall\n",
    "        x = 2*L-x    # If so, move back inside wall by distance we have overshot\n",
    "        vx = -vx     # and change the sign of the velocity\n",
    "    elif x <= - L:   # Ditto for wall on the opposite side\n",
    "        x = -2*L-x\n",
    "        vx = -vx\n",
    "    return x,vx      # return the new position and velocity"
   ]
  },
  {
   "cell_type": "markdown",
   "metadata": {},
   "source": [
    "To bounce the ball, all we need to do is use this new routine each time step to update the $x$ and $y$ coordinate and velocity"
   ]
  },
  {
   "cell_type": "code",
   "execution_count": null,
   "metadata": {
    "collapsed": true
   },
   "outputs": [],
   "source": [
    "ball.clear()\n",
    "ball.goto(0,0)\n",
    "vx, vy = 2, 3    # speed in the x and y directions\n",
    "x,y = -300.0,300.0\n",
    "for i in range(500):\n",
    "    x += vx\n",
    "    y -= vy\n",
    "    x, vx = bounce(x, vx)\n",
    "    y, vy = bounce(y, vy)\n",
    "    ball.setpos(x,y)"
   ]
  },
  {
   "cell_type": "markdown",
   "metadata": {},
   "source": [
    "It is convenient to combine the position update (`x += vx`) and the bouncing into one routine.\n",
    "\n",
    "Also, it is bad practice to refer to global variables, so pass `L` as an argument."
   ]
  },
  {
   "cell_type": "code",
   "execution_count": null,
   "metadata": {
    "collapsed": true
   },
   "outputs": [],
   "source": [
    "def update_and_bounce(L,x,vx):\n",
    "    ''' \n",
    "    Advance the position using the velocity and bounce the ball \n",
    "    off the walls returning new position and velocity \n",
    "    '''\n",
    "    x += vx\n",
    "    if x >= L:       # Check if ball has hit or gone past the wall\n",
    "        x = 2*L-x    # If so, move back inside wall by distance we have overshot\n",
    "        vx = -vx     # and change the sign of the velocity\n",
    "    elif x <= - L:   # Ditto for wall on the opposite side\n",
    "        x = -2*L-x\n",
    "        vx = -vx\n",
    "    return x,vx      # return the new position and velocity"
   ]
  },
  {
   "cell_type": "markdown",
   "metadata": {},
   "source": [
    "Using this new routine the main loop is very simple"
   ]
  },
  {
   "cell_type": "code",
   "execution_count": null,
   "metadata": {
    "collapsed": true
   },
   "outputs": [],
   "source": [
    "ball.clear()\n",
    "ball.goto(0,0)\n",
    "vx, vy = 2, 3    # speed in the x and y directions\n",
    "x,y = -300.0,300.0\n",
    "for i in range(500):\n",
    "    x, vx = update_and_bounce(L, x, vx)\n",
    "    y, vy = update_and_bounce(L, y, vy)\n",
    "    ball.setpos(x,y)"
   ]
  },
  {
   "cell_type": "markdown",
   "metadata": {},
   "source": [
    "How about 2 balls? \n",
    "\n",
    "It is now convenient to define a function to make a ball.\n",
    "\n",
    "We also need separate positions and velocities for each ball."
   ]
  },
  {
   "cell_type": "code",
   "execution_count": null,
   "metadata": {
    "collapsed": false
   },
   "outputs": [],
   "source": [
    "def make_ball(color):\n",
    "    ball = Turtle()\n",
    "    ball.penup()\n",
    "    ball.shape(\"circle\")\n",
    "    ball.color(color)\n",
    "    ball.shapesize(1,1,1)\n",
    "    return ball\n",
    "    \n",
    "ball = make_ball(\"blue\")\n",
    "ball2 = make_ball(\"red\")\n",
    "\n",
    "ball.clear()\n",
    "ball.goto(0,0)\n",
    "vx, vy = 2, 3 \n",
    "x,y = -300.0,300.0\n",
    "\n",
    "vx2, vy2 = -1,4\n",
    "x2, y2 = 200,90\n",
    "\n",
    "x,y = 100.0,-100.0\n",
    "for i in range(500):\n",
    "    x, vx = update_and_bounce(L, x, vx)\n",
    "    y, vy = update_and_bounce(L, y, vy)\n",
    "    ball.setpos(x,y)\n",
    "    \n",
    "    x2, vx2 = update_and_bounce(L, x2, vx2)\n",
    "    y2, vy2 = update_and_bounce(L, y2, vy2)\n",
    "    ball2.setpos(x2,y2)"
   ]
  },
  {
   "cell_type": "markdown",
   "metadata": {},
   "source": [
    "That was not too painful for just 2 balls, but what about 200?  And in a real molecular dynamics simulation we may have millions of atoms.\n",
    "\n",
    "Instead of using separate variables for each ball, we need to put them in a list."
   ]
  },
  {
   "cell_type": "code",
   "execution_count": null,
   "metadata": {
    "collapsed": false
   },
   "outputs": [],
   "source": [
    "from random import uniform, randrange\n",
    "\n",
    "def rancol():\n",
    "    ''' returns a random color '''\n",
    "    colors = ['red','green','blue','orange','purple','pink']\n",
    "    return colors[randrange(len(colors))]\n",
    "\n",
    "nballs = 10\n",
    "balls = [make_ball(rancol()) for i in range(nballs)]\n",
    "coords = [(uniform(-300,300),uniform(-300,300)) for i in range(nballs)]\n",
    "velocities=[(uniform(-10,10),uniform(-10,10)) for i in range(nballs)]\n",
    "for i in range(100):\n",
    "    for i in range(nballs):\n",
    "        x,y = coords[i]\n",
    "        vx,vy = velocities[i]\n",
    "        x, vx = update_and_bounce(L, x, vx)\n",
    "        y, vy = update_and_bounce(L, y, vy)\n",
    "        balls[i].setpos(x,y)\n",
    "        coords[i] = (x,y)\n",
    "        velocities[i] = (vx,vy)"
   ]
  },
  {
   "cell_type": "markdown",
   "metadata": {
    "collapsed": true
   },
   "source": [
    "Putting it all together into a single complete program"
   ]
  },
  {
   "cell_type": "code",
   "execution_count": null,
   "metadata": {
    "collapsed": false
   },
   "outputs": [],
   "source": [
    "from turtle import *\n",
    "from random import uniform, randrange\n",
    "\n",
    "def drawbox(L):\n",
    "    ''' Draws and fills a square with corners [L,L] and [-L,-L] '''\n",
    "    t = Turtle()\n",
    "    t.color('green','yellow')\n",
    "    t.penup()\n",
    "    t.goto((-L,-L))\n",
    "    t.begin_fill()\n",
    "    t.pendown()\n",
    "    for x,y in (-L,L),(L,L),(L,-L),(-L,-L):\n",
    "        t.goto(x,y)\n",
    "    t.end_fill()\n",
    "    t.hideturtle()\n",
    "    \n",
    "def update_and_bounce(L,x,vx):\n",
    "    ''' \n",
    "    Advance the position using the velocity and bounce the ball \n",
    "    off the walls returning new position and velocity \n",
    "    '''\n",
    "    x += vx\n",
    "    if x >= L:       # Check if ball has hit or gone past the wall\n",
    "        x = 2*L-x    # If so, move back inside wall by distance we have overshot\n",
    "        vx = -vx     # and change the sign of the velocity\n",
    "    elif x <= - L:   # Ditto for wall on the opposite side\n",
    "        x = -2*L-x\n",
    "        vx = -vx\n",
    "    return x,vx      # return the new position and velocity\n",
    "\n",
    "def make_ball(color):\n",
    "    ''' makes a ball of the specified color '''\n",
    "    ball = Turtle()\n",
    "    ball.speed(0)    # for fastest animation\n",
    "    ball.penup()\n",
    "    ball.shape(\"circle\")\n",
    "    ball.color(color)\n",
    "    ball.shapesize(1,1,1)\n",
    "    return ball\n",
    "\n",
    "def rancol():\n",
    "    ''' returns a random color '''\n",
    "    colors = ['red','green','blue','orange','purple','pink']\n",
    "    return colors[randrange(len(colors))]\n",
    "\n",
    "L = 300\n",
    "nballs = 10\n",
    "\n",
    "drawbox(L)\n",
    "balls = [make_ball(rancol()) for i in range(nballs)]\n",
    "coords = [(uniform(-300,300),uniform(-300,300)) for i in range(nballs)]\n",
    "velocities=[(uniform(-10,10),uniform(-10,10)) for i in range(nballs)]\n",
    "\n",
    "for i in range(300):\n",
    "    for i in range(nballs):\n",
    "        x,y = coords[i]\n",
    "        vx,vy = velocities[i]\n",
    "        x, vx = update_and_bounce(L, x, vx)\n",
    "        y, vy = update_and_bounce(L, y, vy)\n",
    "        balls[i].setpos(x,y)\n",
    "        coords[i] = (x,y)\n",
    "        velocities[i] = (vx,vy)"
   ]
  },
  {
   "cell_type": "code",
   "execution_count": null,
   "metadata": {
    "collapsed": true
   },
   "outputs": [],
   "source": []
  }
 ],
 "metadata": {
  "anaconda-cloud": {},
  "kernelspec": {
   "display_name": "Python 3",
   "language": "python",
   "name": "python3"
  },
  "language_info": {
   "codemirror_mode": {
    "name": "ipython",
    "version": 3
   },
   "file_extension": ".py",
   "mimetype": "text/x-python",
   "name": "python",
   "nbconvert_exporter": "python",
   "pygments_lexer": "ipython3",
   "version": "3.6.0"
  }
 },
 "nbformat": 4,
 "nbformat_minor": 1
}
