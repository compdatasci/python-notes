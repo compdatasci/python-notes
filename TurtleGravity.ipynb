{
 "cells": [
  {
   "cell_type": "markdown",
   "metadata": {},
   "source": [
    "This example illustrates a planet orbiting the sun (in 2D) under the influence of gravity.\n",
    "\n",
    "Newton's equations of motion are integrated with a graviational potential given by $\\frac{M}{r}$ where $r=\\sqrt{x^2+y^2}$ is the distance of the planet from the sun, and $M$ is proportional to the mass of the sun."
   ]
  },
  {
   "cell_type": "code",
   "execution_count": null,
   "metadata": {
    "collapsed": false
   },
   "outputs": [],
   "source": [
    "import math\n",
    "from turtle import *\n",
    "\n",
    "sun = Turtle()\n",
    "sun.shape(\"circle\")\n",
    "sun.color(\"yellow\")\n",
    "sun.shapesize(4,4,4)\n",
    "\n",
    "ball = Turtle()\n",
    "ball.penup()\n",
    "ball.shape(\"circle\")\n",
    "ball.color(\"blue\")\n",
    "ball.shapesize(1,1,1)\n",
    "\n",
    "M = 1e4                    # effective mass of the sun\n",
    "vx,vy = 3,3                # initial velocity of the planet\n",
    "x,y = 200.0,-200.0         # initial position of the planet\n",
    "ball.setpos(x,y)\n",
    "ball.pendown()\n",
    "\n",
    "for i in range(1000):\n",
    "    x += vx                # update the position of the planet\n",
    "    y += vy\n",
    "    ball.setpos(x,y)       # actually move the planet\n",
    "    r = math.sqrt(x*x+y*y) # distance of the planet from the sun\n",
    "    vx -= M*x/r**3         # update the velocity of the planet\n",
    "    vy -= M*y/r**3"
   ]
  },
  {
   "cell_type": "markdown",
   "metadata": {},
   "source": [
    "Some students (e.g., physicsts and applied math) may be interested in a few more details about the dynamics.\n",
    "\n",
    "We are using the mid-point leapfrog integration rule (http://young.physics.ucsc.edu/115/leapfrog.pdf) which is a *symplectic* integrator. What was not mentioned above is that while  `(x,y)` is the position at time $t$, `(vx,vy)` is actually the velocity at time $t+\\frac{1}{2}$.\n",
    "\n",
    "Since there are no external forces, energy should be conserved if the numerical simulation is accurate.  Checking this is an important verification of the simulation.  We can see visually that the orbit is stable so we expect things to be OK.\n",
    " \n",
    "The following program prints out the kinetic, potential and total energy.  This requires computing the velocity at the same time as we know the position (which is done by averaging the velocities at times $t+\\frac{1}{2}$ and $t+\\frac{3}{2}$)."
   ]
  },
  {
   "cell_type": "code",
   "execution_count": null,
   "metadata": {
    "collapsed": true
   },
   "outputs": [],
   "source": [
    "ball.reset()"
   ]
  },
  {
   "cell_type": "code",
   "execution_count": null,
   "metadata": {
    "collapsed": false
   },
   "outputs": [],
   "source": [
    "import math\n",
    "from turtle import *\n",
    "\n",
    "sun = Turtle()\n",
    "sun.shape(\"circle\")\n",
    "sun.color(\"yellow\")\n",
    "sun.shapesize(4,4,4)\n",
    "\n",
    "ball = Turtle()\n",
    "ball.penup()\n",
    "ball.shape(\"circle\")\n",
    "ball.color(\"blue\")\n",
    "ball.shapesize(1,1,1)\n",
    "\n",
    "M = 1e4                    # effective mass of the sun\n",
    "vx,vy = 3,3                # initial velocity of the planet\n",
    "x,y = 200.0,-200.0         # initial position of the planet\n",
    "ball.setpos(x,y)\n",
    "ball.pendown()\n",
    "for i in range(800):\n",
    "    x += vx                # update the position of the planet\n",
    "    y += vy\n",
    "    ball.setpos(x,y)       # actually move the planet\n",
    "    r = math.sqrt(x*x+y*y) # distance of the planet from the sun\n",
    "    vxold, vyold = vx, vy  # save old velocities for computing kinetic energy\n",
    "    vx -= M*x/r**3         # update the velocity of the planet\n",
    "    vy -= M*y/r**3\n",
    "    if (i%20)==0:\n",
    "        if i == 0:\n",
    "            print(\"  step     kinetic      potential     energy\")\n",
    "            print(\"---------  ---------    ---------    ---------\")\n",
    "        vx1, vy1 = 0.5*(vx+vxold), 0.5*(vy+vyold) # estimate of velocity at time t+1\n",
    "        KE = 0.5*(vx1**2 + vy1**2)\n",
    "        PE = -M/math.sqrt(x**2 + y**2)\n",
    "        print(\"%6d %12.4f %12.4f %12.4f\" % (i, KE, PE, KE+PE))\n"
   ]
  },
  {
   "cell_type": "code",
   "execution_count": null,
   "metadata": {
    "collapsed": true
   },
   "outputs": [],
   "source": []
  }
 ],
 "metadata": {
  "kernelspec": {
   "display_name": "Python 3",
   "language": "python",
   "name": "python3"
  },
  "language_info": {
   "codemirror_mode": {
    "name": "ipython",
    "version": 3
   },
   "file_extension": ".py",
   "mimetype": "text/x-python",
   "name": "python",
   "nbconvert_exporter": "python",
   "pygments_lexer": "ipython3",
   "version": "3.6.0"
  }
 },
 "nbformat": 4,
 "nbformat_minor": 1
}
