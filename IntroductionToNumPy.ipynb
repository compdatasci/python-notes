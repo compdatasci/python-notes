{
 "cells": [
  {
   "cell_type": "markdown",
   "metadata": {},
   "source": [
    "# Introduction to NumPY\n",
    "\n",
    "NumPy home page - lots of good links from here\n",
    "* http://www.numpy.org/\n",
    "\n",
    "Links to tutorials\n",
    "* http://cs231n.github.io/python-numpy-tutorial/\n",
    "  - nice quick review of Python then nice quick intro to highlights of NumPy\n",
    "  - iPython (Jupyter) notebook format \n",
    "* https://docs.scipy.org/doc/numpy-dev/user/index.html\n",
    "  - https://docs.scipy.org/doc/numpy-dev/user/quickstart.html\n",
    "    - Useful for beginners and to quickly remind yourself of basics\n",
    "  - https://docs.scipy.org/doc/numpy-dev/user/basics.html\n",
    "    - A bit more in-depth than the quick start\n",
    "  - https://docs.scipy.org/doc/numpy-dev/reference/index.html#reference\n",
    "    - The answer to your question is surely in here, but there is lots of advanced content\n",
    "* http://www.tutorialspoint.com/numpy/\n",
    "  - Rather detailed - perhaps best for more advanced readers or for reference?\n",
    "* http://www.python-course.eu/numpy.php\n",
    "  - Quite accessible (at least to begin with) but not very deep\n",
    "\n"
   ]
  },
  {
   "cell_type": "code",
   "execution_count": null,
   "metadata": {
    "collapsed": false
   },
   "outputs": [],
   "source": []
  },
  {
   "cell_type": "markdown",
   "metadata": {},
   "source": [
    "Making arrays\n",
    "* from existing python list - array()\n",
    "* data types\n",
    "* concept of shape\n",
    "* full of zeros, ones, anything - zeros(shape), ones(shape), full(shape,value)\n",
    "* range of values - arange() is like Python range(), linspace() is more general\n"
   ]
  },
  {
   "cell_type": "code",
   "execution_count": null,
   "metadata": {
    "collapsed": true
   },
   "outputs": [],
   "source": []
  },
  {
   "cell_type": "markdown",
   "metadata": {},
   "source": [
    "Indexing into arrays \n",
    "* Usual python notation extended into multiple dimensions\n",
    "\n",
    "Arrays are mutable\n",
    "\n",
    "Slicing returns a view - powerful but different to what slicing into a list does\n",
    "* E.g., add 1 to all elements in a patch of a matrix\n",
    "\n",
    "Can also extract elements based upon boolean (logical) condition"
   ]
  },
  {
   "cell_type": "code",
   "execution_count": null,
   "metadata": {
    "collapsed": true
   },
   "outputs": [],
   "source": []
  },
  {
   "cell_type": "markdown",
   "metadata": {},
   "source": [
    "Math operations are elementwise\n"
   ]
  },
  {
   "cell_type": "code",
   "execution_count": null,
   "metadata": {
    "collapsed": false
   },
   "outputs": [],
   "source": []
  },
  {
   "cell_type": "markdown",
   "metadata": {},
   "source": [
    "Why numpy?  Lots of good reasons\n",
    "* multidimensional data\n",
    "* lots of powerful numerical options\n",
    "* interfacing to third party packages\n",
    "* working with very large data\n",
    "\n",
    "But reason number 1 is **speed**\n",
    "\n",
    "Measure the time it takes (separately for each step)\n",
    "* Python to make a list with 10,000,000 values intialized to 0,1,2,3...\n",
    "* To make another list equal to the square of the first list, i.e., 0,1,4,9, ...\n",
    "* To compute the sum of all the elements in the first list\n",
    "* Note that assignements made when using `%timeit` don't have effect and so you need to be careful to check the type and size of what you are operating on."
   ]
  },
  {
   "cell_type": "code",
   "execution_count": null,
   "metadata": {
    "collapsed": true
   },
   "outputs": [],
   "source": []
  },
  {
   "cell_type": "markdown",
   "metadata": {},
   "source": [
    "Other operations\n",
    "* dot for inner product and matrix multiplication\n",
    "* linear algebra - https://docs.scipy.org/doc/numpy-dev/reference/routines.linalg.html\n",
    "* image processing, data processing etc.\n",
    "* will use NumPy more later in the course\n"
   ]
  }
 ],
 "metadata": {
  "kernelspec": {
   "display_name": "Python 3",
   "language": "python",
   "name": "python3"
  },
  "language_info": {
   "codemirror_mode": {
    "name": "ipython",
    "version": 3
   },
   "file_extension": ".py",
   "mimetype": "text/x-python",
   "name": "python",
   "nbconvert_exporter": "python",
   "pygments_lexer": "ipython3",
   "version": "3.6.0"
  }
 },
 "nbformat": 4,
 "nbformat_minor": 1
}
