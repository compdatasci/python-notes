{
 "cells": [
  {
   "cell_type": "markdown",
   "metadata": {},
   "source": [
    "# Class 5 - Markdown, modules, graphics\n",
    "\n",
    "### Markdown\n",
    "\n",
    "* Explore the documentation\n",
    "* You will need it to complete the next assignment\n",
    "\n",
    "### Modules\n",
    "* Section 6 of the Python tutorial\n",
    "  - We are not yet concerned about making modules of our own, but in using existing modules\n",
    "* Importing and using a module\n",
    "  - E.g. math\n",
    "  - How to see what's in a module without looking at the web page\n",
    "* Section 10 and 11 of the Python tutorial\n",
    "* The Python Standard Library\n",
    "  - You should be able to find this by now\n",
    "  - Useful modules to be aware at this point\n",
    "    - math\n",
    "    - string\n",
    "    - collections\n",
    "    - random\n",
    "    - statistics\n",
    "    - pathlib, os.path\n",
    "    - [pickle]\n",
    "    - csv (also html, xml, ...)\n",
    "    - os, sys\n",
    "    \n",
    "  \n",
    "* The python packge index is a vast treasure trove\n",
    "  - https://pypi.python.org/pypi\n",
    "\n",
    "What's installed in Anaconda?\n",
    "* https://docs.continuum.io/anaconda/\n",
    "* https://docs.continuum.io/anaconda/pkg-docs.html (and click on Python 3.5)\n",
    "* To install new packages\n",
    "  - https://conda.io/docs/using/pkgs.html\n",
    "\n",
    "### Fancy string formatting\n",
    "\n",
    "* Tutorial 7.1\n",
    "  - You've already covered that as part of the first homework\n",
    " \n",
    "### Files\n",
    "\n",
    "* Tutorial 7.2 - basic file I/O\n",
    "  - opening a file\n",
    "    - file name, path, directory/folder, ...\n",
    "    - file mode\n",
    "    - text and binary files (Windows vs. the rest of the world)\n",
    "\n",
    "OK.  Let's compute some simple statistics on Act 1 Scene 1 from Shakespeare's \"All's Well That Ends Well\" (text obtained from http://shakespeare.mit.edu/allswell/allswell.1.1.html).\n",
    "\n",
    "Download `allswell.txt` from the shared google drive: https://goo.gl/bbNgGj\n",
    "* Make sure it is in the same folder/directory as your jupyter notebooks\n",
    "  - You can use if it is in another folder - you just need to know the path\n",
    "  \n",
    "Open the file in a text editor to see what's in it.\n",
    "  \n",
    "Use Python to open the file for reading in text mode."
   ]
  },
  {
   "cell_type": "code",
   "execution_count": null,
   "metadata": {
    "collapsed": false
   },
   "outputs": [],
   "source": []
  },
  {
   "cell_type": "markdown",
   "metadata": {},
   "source": [
    "Read in the first line --- what's in it?"
   ]
  },
  {
   "cell_type": "code",
   "execution_count": null,
   "metadata": {
    "collapsed": false
   },
   "outputs": [],
   "source": []
  },
  {
   "cell_type": "markdown",
   "metadata": {},
   "source": [
    "Review the methods of a string (can you find the documentation?)\n",
    "\n",
    "How many characters are in this first line?\n",
    "\n",
    "How many words?"
   ]
  },
  {
   "cell_type": "code",
   "execution_count": null,
   "metadata": {
    "collapsed": false
   },
   "outputs": [],
   "source": []
  },
  {
   "cell_type": "markdown",
   "metadata": {},
   "source": [
    "Re-open the file.  How many lines, characters and words are there in the entire file?"
   ]
  },
  {
   "cell_type": "code",
   "execution_count": null,
   "metadata": {
    "collapsed": true
   },
   "outputs": [],
   "source": []
  },
  {
   "cell_type": "markdown",
   "metadata": {},
   "source": [
    "What happens when you try to read a line when you are at the end of a file?"
   ]
  },
  {
   "cell_type": "code",
   "execution_count": null,
   "metadata": {
    "collapsed": true
   },
   "outputs": [],
   "source": []
  },
  {
   "cell_type": "markdown",
   "metadata": {},
   "source": [
    "Move the file into another directory.  Anywhere.\n",
    "\n",
    "Now open it from Python."
   ]
  },
  {
   "cell_type": "code",
   "execution_count": null,
   "metadata": {
    "collapsed": true
   },
   "outputs": [],
   "source": []
  },
  {
   "cell_type": "markdown",
   "metadata": {},
   "source": [
    "When you open a file for writing it is *truncated* to zero length --- any existing content is *deleted forever*.\n",
    "\n",
    "*Gone for good*\n",
    "\n",
    "*Irreversibly erased from your computer*\n",
    "\n",
    "In Python open `allswell.txt` for writing, then close it, then look at it using a text editor.\n",
    "* How would you feel if this were, for example, the only copy of some data you had taken a year to collect?\n",
    "\n",
    "The moral should be clear. ** KEEP A COPY OF ANYTHING VALUABLE **\n",
    "\n",
    "Also, it is nice to be able to check if a file exists and print out an error\n",
    "* Let's figure out how to do that.\n"
   ]
  },
  {
   "cell_type": "code",
   "execution_count": null,
   "metadata": {
    "collapsed": true
   },
   "outputs": [],
   "source": []
  },
  {
   "cell_type": "markdown",
   "metadata": {},
   "source": [
    "Download another copy of `allswell.txt` and open it read only.\n",
    "\n",
    "Let's write it out another copy of the file (called `allswell-numbered.txt`) with line numbers prepended (and if you are being slick, the line numbers will be formatted to line up nicely).\n",
    "\n",
    "Use a text editor to check it is OK."
   ]
  },
  {
   "cell_type": "code",
   "execution_count": null,
   "metadata": {
    "collapsed": true
   },
   "outputs": [],
   "source": []
  }
 ],
 "metadata": {
  "kernelspec": {
   "display_name": "Python [default]",
   "language": "python",
   "name": "python3"
  },
  "language_info": {
   "codemirror_mode": {
    "name": "ipython",
    "version": 3
   },
   "file_extension": ".py",
   "mimetype": "text/x-python",
   "name": "python",
   "nbconvert_exporter": "python",
   "pygments_lexer": "ipython3",
   "version": "3.5.2"
  }
 },
 "nbformat": 4,
 "nbformat_minor": 1
}
