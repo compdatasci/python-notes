{
 "cells": [
  {
   "cell_type": "markdown",
   "metadata": {},
   "source": [
    "Make a bar chart for this data that represents the probability of finding each letter in the alphabet\n",
    "* find (or guess) the name of the matplotlib function that makes a bar chart\n"
   ]
  },
  {
   "cell_type": "code",
   "execution_count": 1,
   "metadata": {
    "collapsed": false
   },
   "outputs": [
    {
     "name": "stdout",
     "output_type": "stream",
     "text": [
      "[0.7617553133033566, 0.9396943299312734, 0.3792593148638238, 0.09508305222850366, 0.5308386764284309, 0.9081882257096009, 0.44587106873462734, 0.8917060316055013, 0.1752931615700032, 0.14996458079903563, 0.3783210623738379, 0.6288120775290719, 0.3328970884787599, 0.788604212499254, 0.0834372737454715, 0.868454742810133, 0.849456301841545, 0.03265972701897202, 8.28152922907055e-05, 0.5631749890557953, 0.2684728225553852, 0.13582725628722947, 0.8747610208700837, 0.31959343255217765, 0.487286684103992, 0.4162279639184725] ['a', 'b', 'c', 'd', 'e', 'f', 'g', 'h', 'i', 'j', 'k', 'l', 'm', 'n', 'o', 'p', 'q', 'r', 's', 't', 'u', 'v', 'w', 'x', 'y', 'z']\n"
     ]
    }
   ],
   "source": [
    "import random\n",
    "import string\n",
    "\n",
    "freq = [random.random() for i in range(26)]\n",
    "labels = [c for c in string.ascii_lowercase]\n",
    "print(freq, labels)"
   ]
  },
  {
   "cell_type": "code",
   "execution_count": 2,
   "metadata": {
    "collapsed": false
   },
   "outputs": [
    {
     "name": "stdout",
     "output_type": "stream",
     "text": [
      "[0, 1, 2, 3, 4, 5, 6, 7, 8, 9, 10, 11, 12, 13, 14, 15, 16, 17, 18, 19, 20, 21, 22, 23, 24, 25]\n"
     ]
    },
    {
     "data": {
      "text/plain": [
       "(array([ 0,  1,  2,  3,  4,  5,  6,  7,  8,  9, 10, 11, 12, 13, 14, 15, 16,\n",
       "        17, 18, 19, 20, 21, 22, 23, 24, 25]),\n",
       " <a list of 26 Text xticklabel objects>)"
      ]
     },
     "execution_count": 2,
     "metadata": {},
     "output_type": "execute_result"
    },
    {
     "data": {
      "image/png": "[encoded data removed]",
      "text/plain": [
       "<matplotlib.figure.Figure at 0x7fd7252a19b0>"
      ]
     },
     "metadata": {},
     "output_type": "display_data"
    }
   ],
   "source": [
    "import matplotlib.pyplot as plt\n",
    "%matplotlib inline\n",
    "x = list(range(26))\n",
    "print(x)\n",
    "plt.bar(x,freq,tick_label=labels)\n",
    "plt.xticks(rotation=90, ha='left')"
   ]
  },
  {
   "cell_type": "markdown",
   "metadata": {},
   "source": [
    "For the text in `allswell.txt` count the number of times each letter appears and plot the resulting statistics\n",
    "\n"
   ]
  },
  {
   "cell_type": "code",
   "execution_count": 3,
   "metadata": {
    "collapsed": false
   },
   "outputs": [
    {
     "data": {
      "text/plain": [
       "0"
      ]
     },
     "execution_count": 3,
     "metadata": {},
     "output_type": "execute_result"
    }
   ],
   "source": [
    "int()"
   ]
  },
  {
   "cell_type": "code",
   "execution_count": 4,
   "metadata": {
    "collapsed": false
   },
   "outputs": [
    {
     "name": "stdout",
     "output_type": "stream",
     "text": [
      "a 620\n",
      "b 128\n",
      "c 160\n",
      "d 276\n",
      "e 989\n",
      "f 170\n",
      "g 145\n",
      "h 493\n",
      "i 623\n",
      "j 7\n",
      "k 79\n",
      "l 390\n",
      "m 225\n",
      "n 520\n",
      "o 584\n",
      "p 122\n",
      "q 8\n",
      "r 497\n",
      "s 546\n",
      "t 675\n",
      "u 264\n",
      "v 99\n",
      "w 198\n",
      "x 12\n",
      "y 185\n",
      "z 1\n"
     ]
    }
   ],
   "source": [
    "import collections\n",
    "f = open('allswell.txt','r')\n",
    "counts = collections.defaultdict(int)\n",
    "\n",
    "for line in f:\n",
    "    line = line.lower()\n",
    "    for c in line:\n",
    "        if c in string.ascii_lowercase:\n",
    "            counts[c] += 1\n",
    "\n",
    "for c in sorted(counts):\n",
    "    print(c, counts[c])\n"
   ]
  },
  {
   "cell_type": "code",
   "execution_count": 5,
   "metadata": {
    "collapsed": false
   },
   "outputs": [
    {
     "data": {
      "text/plain": [
       "<Container object of 26 artists>"
      ]
     },
     "execution_count": 5,
     "metadata": {},
     "output_type": "execute_result"
    },
    {
     "data": {
      "image/png": "[encoded data removed]",
      "text/plain": [
       "<matplotlib.figure.Figure at 0x7fd70731d6a0>"
      ]
     },
     "metadata": {},
     "output_type": "display_data"
    }
   ],
   "source": [
    "import matplotlib.pyplot as plt\n",
    "%matplotlib inline\n",
    "x = list(range(26))\n",
    "countlist = [counts[c] for c in counts]\n",
    "labels=[c for c in counts]\n",
    "plt.bar(x,countlist,tick_label=labels)"
   ]
  },
  {
   "cell_type": "code",
   "execution_count": null,
   "metadata": {
    "collapsed": true
   },
   "outputs": [],
   "source": []
  },
  {
   "cell_type": "code",
   "execution_count": null,
   "metadata": {
    "collapsed": true
   },
   "outputs": [],
   "source": []
  },
  {
   "cell_type": "markdown",
   "metadata": {
    "collapsed": true
   },
   "source": [
    "### When I worked through the above in class I was using the stuff below here as reference --- it is basically just a repeat of the above."
   ]
  },
  {
   "cell_type": "code",
   "execution_count": 6,
   "metadata": {
    "collapsed": false
   },
   "outputs": [
    {
     "data": {
      "text/plain": [
       "<Container object of 26 artists>"
      ]
     },
     "execution_count": 6,
     "metadata": {},
     "output_type": "execute_result"
    },
    {
     "data": {
      "image/png": "[encoded data removed]",
      "text/plain": [
       "<matplotlib.figure.Figure at 0x7fd7023d0ba8>"
      ]
     },
     "metadata": {},
     "output_type": "display_data"
    }
   ],
   "source": [
    "import matplotlib.pyplot as plt\n",
    "%matplotlib inline\n",
    "import random\n",
    "import string\n",
    "\n",
    "# make some test data\n",
    "y = [random.random() for i in range(26)]\n",
    "x = [i for i in range(len(y))]\n",
    "labels = [c for c in string.ascii_lowercase]\n",
    "\n",
    "plt.xticks(rotation=90, ha='left')\n",
    "plt.xlim([-0.2,26])\n",
    "plt.bar(x,y,tick_label=labels)\n"
   ]
  },
  {
   "cell_type": "code",
   "execution_count": 7,
   "metadata": {
    "collapsed": false
   },
   "outputs": [
    {
     "name": "stdout",
     "output_type": "stream",
     "text": [
      "defaultdict(<class 'int'>, {'o': 584, 'q': 8, 'e': 989, 'x': 12, 't': 675, 'c': 160, 'm': 225, 'h': 493, 'b': 128, 'w': 198, 'u': 264, 'f': 170, 'l': 390, 'z': 1, 'g': 145, 'j': 7, 'y': 185, 'r': 497, 'p': 122, 'i': 623, 'a': 620, 'v': 99, 's': 546, 'k': 79, 'n': 520, 'd': 276})\n"
     ]
    },
    {
     "data": {
      "text/plain": [
       "<Container object of 26 artists>"
      ]
     },
     "execution_count": 7,
     "metadata": {},
     "output_type": "execute_result"
    },
    {
     "data": {
      "image/png": "[encoded data removed]",
      "text/plain": [
       "<matplotlib.figure.Figure at 0x7fd701d67f28>"
      ]
     },
     "metadata": {},
     "output_type": "display_data"
    }
   ],
   "source": [
    "import matplotlib\n",
    "%matplotlib inline\n",
    "import collections\n",
    "import string\n",
    "f = open('allswell.txt','r')\n",
    "counts = collections.defaultdict(int)\n",
    "for line in f:\n",
    "    for c in line.lower():\n",
    "        if c in string.ascii_lowercase:\n",
    "            counts[c] += 1\n",
    "print(counts)\n",
    "x = [i for i in range(len(freq))]\n",
    "y = [count for letter,count in counts.items()]\n",
    "labels = [c for c in string.ascii_lowercase]\n",
    "\n",
    "plt.xticks(rotation=90, ha='left')\n",
    "plt.xlim([-0.2,26])\n",
    "plt.bar(x,y,tick_label=labels)"
   ]
  },
  {
   "cell_type": "code",
   "execution_count": null,
   "metadata": {
    "collapsed": true
   },
   "outputs": [],
   "source": []
  },
  {
   "cell_type": "code",
   "execution_count": null,
   "metadata": {
    "collapsed": false
   },
   "outputs": [],
   "source": [
    "import collections\n",
    "import string\n",
    "\n",
    "def remove_non_char(line):\n",
    "    for c in line:\n",
    "        if c not in string.ascii_lowercase:\n",
    "            line = line.replace(c,' ')\n",
    "    return line\n",
    "\n",
    "char_count = collections.defaultdict(int)\n",
    "word_count = collections.defaultdict(int)\n",
    "f = open('allswell.txt','r')\n",
    "for line in f:\n",
    "    line = remove_non_char(line.lower())\n",
    "    for word in line.split():\n",
    "        if word != '':\n",
    "            word_count[word] += 1\n",
    "    for c in word:\n",
    "        char_count[c] += 1\n",
    "\n",
    "print(len(char_count),len(word_count))\n",
    "rest = 0\n",
    "for word in sorted(word_count,key=words.__getitem__,reverse=True):\n",
    "    n = word_count[word]\n",
    "    if n>=10:\n",
    "        print(\"%10s %d\" % (word,n))\n",
    "    else:\n",
    "        rest += 1\n",
    "print('      etc.',rest)\n"
   ]
  },
  {
   "cell_type": "code",
   "execution_count": null,
   "metadata": {
    "collapsed": false
   },
   "outputs": [],
   "source": [
    "counts = [v for k,v in word_count.items()]\n",
    "counts.sort(reverse=True)\n",
    "plt.bar(range(len(counts)), counts)"
   ]
  },
  {
   "cell_type": "code",
   "execution_count": null,
   "metadata": {
    "collapsed": true
   },
   "outputs": [],
   "source": []
  }
 ],
 "metadata": {
  "anaconda-cloud": {},
  "kernelspec": {
   "display_name": "Python [default]",
   "language": "python",
   "name": "python3"
  },
  "language_info": {
   "codemirror_mode": {
    "name": "ipython",
    "version": 3
   },
   "file_extension": ".py",
   "mimetype": "text/x-python",
   "name": "python",
   "nbconvert_exporter": "python",
   "pygments_lexer": "ipython3",
   "version": "3.5.2"
  }
 },
 "nbformat": 4,
 "nbformat_minor": 1
}
