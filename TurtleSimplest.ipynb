{
 "cells": [
  {
   "cell_type": "markdown",
   "metadata": {},
   "source": [
    "# Turtle graphics\n",
    "\n",
    "* https://docs.python.org/3/library/turtle.html\n",
    "\n",
    "* http://www.vivaxsolutions.com/web/python-turtle.aspx nice examples\n",
    "\n",
    "* http://www.eecs.wsu.edu/~schneidj/PyBook/chap13.pdf another book?\n",
    "\n",
    "Play interactively "
   ]
  },
  {
   "cell_type": "code",
   "execution_count": 1,
   "metadata": {
    "collapsed": true
   },
   "outputs": [],
   "source": [
    "from turtle import *\n",
    "forward(3)"
   ]
  },
  {
   "cell_type": "code",
   "execution_count": 8,
   "metadata": {
    "collapsed": true
   },
   "outputs": [],
   "source": []
  },
  {
   "cell_type": "code",
   "execution_count": null,
   "metadata": {
    "collapsed": true
   },
   "outputs": [],
   "source": [
    "from turtle import *\n",
    "speed(1)         # Lowest speed\n",
    "goto(0,200)      # Draws a square (pen is down by default)\n",
    "goto(200,200)\n",
    "goto(200,0)\n",
    "goto(0,0)"
   ]
  },
  {
   "cell_type": "markdown",
   "metadata": {},
   "source": [
    "What will this do?  Play with the values"
   ]
  },
  {
   "cell_type": "code",
   "execution_count": null,
   "metadata": {
    "collapsed": true
   },
   "outputs": [],
   "source": [
    "reset()\n",
    "for i in range(100):\n",
    "    forward(15)\n",
    "    left(10)"
   ]
  },
  {
   "cell_type": "markdown",
   "metadata": {},
   "source": [
    "What about this?  Play with the values"
   ]
  },
  {
   "cell_type": "code",
   "execution_count": 11,
   "metadata": {
    "collapsed": true
   },
   "outputs": [],
   "source": [
    "reset()\n",
    "for i in range(200):\n",
    "    forward(i*0.7)\n",
    "    left(10)"
   ]
  },
  {
   "cell_type": "markdown",
   "metadata": {},
   "source": [
    "What about this?  Play with the values"
   ]
  },
  {
   "cell_type": "code",
   "execution_count": null,
   "metadata": {
    "collapsed": true
   },
   "outputs": [],
   "source": [
    "reset()\n",
    "speed(0)\n",
    "for i in range(1000):\n",
    "    forward(10)\n",
    "    left(i%90)"
   ]
  },
  {
   "cell_type": "code",
   "execution_count": 24,
   "metadata": {
    "collapsed": false
   },
   "outputs": [],
   "source": []
  },
  {
   "cell_type": "code",
   "execution_count": null,
   "metadata": {
    "collapsed": true
   },
   "outputs": [],
   "source": []
  },
  {
   "cell_type": "markdown",
   "metadata": {},
   "source": [
    "Play!  Just see what happens.  No actual turtles will be hurt."
   ]
  },
  {
   "cell_type": "code",
   "execution_count": null,
   "metadata": {
    "collapsed": true
   },
   "outputs": [],
   "source": []
  },
  {
   "cell_type": "code",
   "execution_count": null,
   "metadata": {
    "collapsed": true
   },
   "outputs": [],
   "source": []
  },
  {
   "cell_type": "code",
   "execution_count": null,
   "metadata": {
    "collapsed": true
   },
   "outputs": [],
   "source": []
  },
  {
   "cell_type": "code",
   "execution_count": null,
   "metadata": {
    "collapsed": true
   },
   "outputs": [],
   "source": []
  },
  {
   "cell_type": "markdown",
   "metadata": {},
   "source": [
    "What about this?"
   ]
  },
  {
   "cell_type": "code",
   "execution_count": null,
   "metadata": {
    "collapsed": false
   },
   "outputs": [],
   "source": [
    "reset()\n",
    "speed(9)\n",
    "from random import randint\n",
    "for i in range(200):\n",
    "    forward(randint(0,15))\n",
    "    left(randint(-60,60))"
   ]
  },
  {
   "cell_type": "markdown",
   "metadata": {},
   "source": [
    "Think that is not very useful?  Tell that to Tim (or look at https://en.wikipedia.org/wiki/Random_walk)\n",
    "\n",
    "Your job is to tell Tim if he should think seriously about moving (or sobering up).\n",
    "\n",
    "Tim is walking home, but is inadvisably very inebriated and cannot walk in a straight line.  Friends are waiting for him just 200 meters south of the pub he just left.  Ufortunately, there is a deep canal just 100 meters north of the pub.\n",
    "\n",
    "What is the probability of Tim getting home alive?\n",
    "\n",
    "Restating the problem:\n",
    "* Run 20 random walks each starting from the origin\n",
    "  - if his `y` cooordinate exceeds 100, increment the number of times he drowned, and start the next random walk\n",
    "  - if his `y` coordinate is less (more negative) than -200, increment the number of times he made it home and start the next walk\n",
    "* Estimate his survival probability as `num_got_home / (num_got_home + num_died)`\n",
    "  \n",
    "First let's make a function to draw lines for home and the canal"
   ]
  },
  {
   "cell_type": "code",
   "execution_count": null,
   "metadata": {
    "collapsed": false
   },
   "outputs": [],
   "source": [
    "def draw_lines():\n",
    "    penup()\n",
    "    goto(-400,-200)\n",
    "    pendown()\n",
    "    goto(400,-200)\n",
    "    penup()\n",
    "    goto(-400,100)\n",
    "    pendown()\n",
    "    goto(400,100)\n",
    "\n",
    "draw_lines()"
   ]
  },
  {
   "cell_type": "markdown",
   "metadata": {},
   "source": [
    "Now we can actually simulate Tim's walk home on 20 different nights\n",
    "\n",
    "The code is just the random walk we had above plus a loop and some logic to count the statistics."
   ]
  },
  {
   "cell_type": "code",
   "execution_count": null,
   "metadata": {
    "collapsed": false
   },
   "outputs": [],
   "source": [
    "ndead = 0\n",
    "nhome = 0\n",
    "for walk in range(20):\n",
    "    reset()\n",
    "    speed(0)\n",
    "    draw_lines()\n",
    "    penup()\n",
    "    goto(0,0)\n",
    "    pendown()\n",
    "    while True:\n",
    "        forward(randint(0,15))\n",
    "        left(randint(-60,60))\n",
    "        if ycor() > 100:\n",
    "            ndead += 1\n",
    "            break\n",
    "        elif ycor() < -200:\n",
    "            nhome += 1\n",
    "            break\n",
    "    print(\"died=%2d  lived=%2d  prob=%.2f\" % (ndead,nhome,nhome/(ndead+nhome)))"
   ]
  },
  {
   "cell_type": "markdown",
   "metadata": {},
   "source": [
    "Tim needs your help!"
   ]
  },
  {
   "cell_type": "code",
   "execution_count": null,
   "metadata": {
    "collapsed": true
   },
   "outputs": [],
   "source": []
  }
 ],
 "metadata": {
  "anaconda-cloud": {},
  "kernelspec": {
   "display_name": "Python [default]",
   "language": "python",
   "name": "python3"
  },
  "language_info": {
   "codemirror_mode": {
    "name": "ipython",
    "version": 3
   },
   "file_extension": ".py",
   "mimetype": "text/x-python",
   "name": "python",
   "nbconvert_exporter": "python",
   "pygments_lexer": "ipython3",
   "version": "3.5.2"
  }
 },
 "nbformat": 4,
 "nbformat_minor": 1
}
