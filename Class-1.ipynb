{
 "cells": [
  {
   "cell_type": "markdown",
   "metadata": {},
   "source": [
    "# An introduction to Data and Computing for Scientists and Engineers\n",
    "\n",
    "Outline:\n",
    "* Objectives and big picture\n",
    "* Introductions\n",
    "* Overall syllabus and schedule\n",
    "* Grading - homeworks and projects\n",
    "* Next three weeks --- Python in the Jupyter notebook using Anaconda\n",
    "\n",
    "Class materials:\n",
    "* Assignments, grades etc. in Blackboard\n",
    "* Shared materials will be accumulated in https://goo.gl/bbNgGj which is a Stony Brook Google drive folder\n",
    "* Please subscribe to the general discussion forum in Blackboard for peer support and broader sharing of answers from the instructors and TA.\n",
    "\n",
    "For the next three weeks, as we learn and start to use Python, you **need** to be \n",
    "* reading ahead\n",
    "* playing/practicing with code\n",
    "* reading the documentation\n",
    "* interacting with each other (team programming is fun)\n",
    "* asking lots of questions in class, in office hours, and of each other\n",
    "\n",
    "## Installing Anaconda\n",
    "\n",
    "* Goto https://docs.continuum.io/anaconda/install\n",
    "* Follow the download link for your operating system\n",
    "* Install it --- you should **not** need administrator (or root) access\n",
    "* Run \"Jupyter Notebook\" --- how to will depend on your operating system\n",
    "* Make a new folder (somwhere sensible you can find again!) to hold your notebooks\n",
    "\n",
    "\n",
    "## Beginning the python tutorial\n",
    "\n",
    "Go to https://docs.python.org/3/tutorial/\n",
    "\n",
    "We will start at section 3 and will use the below to augment the presentation in the tutorial."
   ]
  },
  {
   "cell_type": "code",
   "execution_count": 1,
   "metadata": {
    "collapsed": false
   },
   "outputs": [
    {
     "name": "stdout",
     "output_type": "stream",
     "text": [
      "Hello world!\n"
     ]
    }
   ],
   "source": []
  },
  {
   "cell_type": "markdown",
   "metadata": {},
   "source": [
    "Explore printing this and other things in different ways"
   ]
  },
  {
   "cell_type": "code",
   "execution_count": 2,
   "metadata": {
    "collapsed": false
   },
   "outputs": [
    {
     "name": "stdout",
     "output_type": "stream",
     "text": [
      "Hello world !\n"
     ]
    }
   ],
   "source": []
  },
  {
   "cell_type": "markdown",
   "metadata": {},
   "source": [
    "Explore using Python as a simple calculator, and comments"
   ]
  },
  {
   "cell_type": "code",
   "execution_count": 10,
   "metadata": {
    "collapsed": false
   },
   "outputs": [
    {
     "data": {
      "text/plain": [
       "3.5"
      ]
     },
     "execution_count": 10,
     "metadata": {},
     "output_type": "execute_result"
    }
   ],
   "source": []
  },
  {
   "cell_type": "markdown",
   "metadata": {},
   "source": [
    "Creating, saving, renaming and reverting notebooks\n",
    "\n",
    "?, help function, tab word completion\n",
    "\n",
    "Numerical data types: integers and floats (also complex, decimal, rational, ...)"
   ]
  },
  {
   "cell_type": "code",
   "execution_count": null,
   "metadata": {
    "collapsed": false
   },
   "outputs": [],
   "source": []
  },
  {
   "cell_type": "markdown",
   "metadata": {},
   "source": [
    "### Variables --- names you associate with values you want to remember for future use\n",
    "\n",
    "simple examples for people to code (from https://www.programiz.com/python-programming/examples)\n",
    "\n",
    "* area of a triangle (`base*height/2`)\n",
    "* area and circumference of circle\n",
    "* convert units c`elsius = (fahrenheit - 32)/1.8` or  `f = c*1.8+32`\n",
    "* what happens when you refer to a variable that does not exist\n",
    "  - what might be common causes of this?\n",
    "* what happens when you do `1/0`?  or `1.0/0.0` or `10.0**1000.0`?\n",
    "* what happens when you do `10**1000`?"
   ]
  },
  {
   "cell_type": "code",
   "execution_count": 21,
   "metadata": {
    "collapsed": false
   },
   "outputs": [
    {
     "name": "stdout",
     "output_type": "stream",
     "text": [
      "100.0\n"
     ]
    }
   ],
   "source": []
  },
  {
   "cell_type": "code",
   "execution_count": 19,
   "metadata": {
    "collapsed": false
   },
   "outputs": [
    {
     "name": "stdout",
     "output_type": "stream",
     "text": [
      "10\n"
     ]
    }
   ],
   "source": []
  },
  {
   "cell_type": "code",
   "execution_count": null,
   "metadata": {
    "collapsed": true
   },
   "outputs": [],
   "source": []
  },
  {
   "cell_type": "code",
   "execution_count": null,
   "metadata": {
    "collapsed": true
   },
   "outputs": [],
   "source": []
  },
  {
   "cell_type": "markdown",
   "metadata": {},
   "source": [
    "## Operators and precedence:\n",
    "\n",
    "What operations are there?  Go look in the language reference:\n",
    "* if you haven't bookmarked the link just google for python language reference, select 5.5 power operator also 5.6, 5.7, 5.8, 5.9, 5.10, 5.11)\n",
    "* evaluation order and operator precedence discussed in 5.14 and 5.15\n",
    "\n",
    "Examples:\n",
    "\n",
    "* evaluating a quintic polynomial using `**`\n",
    "* manually computing min, max, mean and std-var of 3 numbers\n",
    "   --- -1.0**0.5\n",
    "   "
   ]
  },
  {
   "cell_type": "code",
   "execution_count": 27,
   "metadata": {
    "collapsed": false
   },
   "outputs": [
    {
     "name": "stdout",
     "output_type": "stream",
     "text": [
      "4.144\n",
      "4.144\n"
     ]
    }
   ],
   "source": []
  },
  {
   "cell_type": "code",
   "execution_count": 30,
   "metadata": {
    "collapsed": false
   },
   "outputs": [
    {
     "data": {
      "text/plain": [
       "(6.123233995736766e-17+1j)"
      ]
     },
     "execution_count": 30,
     "metadata": {},
     "output_type": "execute_result"
    }
   ],
   "source": []
  },
  {
   "cell_type": "code",
   "execution_count": null,
   "metadata": {
    "collapsed": true
   },
   "outputs": [],
   "source": []
  },
  {
   "cell_type": "markdown",
   "metadata": {},
   "source": [
    "## Strings --- interacting with data and humans!\n",
    "* how to specify a string? `\"\"`, `''`, `\"\"\" \"\"\"\"`, `''' '''`, quoting, raw\n",
    "* printing\n",
    "\n",
    "Operators on strings\n",
    "* `+` and `*` operators on strings\n",
    "\n",
    "Examples:\n",
    "* given a variable `name` (that presumably contains someone's name)\n",
    "    write 2 (or more) ways to print out `\"The winner is <name>!\"` (with the actual name inserted where `<name>` appears)\n",
    "* print `\"hello \"` 100 times"
   ]
  },
  {
   "cell_type": "code",
   "execution_count": null,
   "metadata": {
    "collapsed": true
   },
   "outputs": [],
   "source": []
  },
  {
   "cell_type": "markdown",
   "metadata": {},
   "source": [
    "### Indexing and slicing into strings\n",
    "\n",
    "Examples:\n",
    "* set the variable `x` to `\"The winner is Mary Jennings!\"` and print out the winner's initials\n",
    "* what is the value of `x[0]`?\n",
    "* what is the value of `x[5]`?\n",
    "* what is the value `x[27]`?\n",
    "* what about `x[-1]` or `x[-2]`?\n",
    "* what about `x[28]` or `x[1000]`?\n",
    "* print out the winner's full name\n",
    "* print out the winner's full name reversed\n",
    "* what happens when you do `x[2]='a'`?\n",
    "  - strings are **immutable** --- you cannot change them --- you have to make a new string if you want to make a change\n",
    "* Using slices of `x` and the `+` operation make a new string with Alvaro Perez as the winner instead of Mary Jennings\n",
    "* How many characters are in the string?  `len()` function"
   ]
  },
  {
   "cell_type": "code",
   "execution_count": null,
   "metadata": {
    "collapsed": true
   },
   "outputs": [],
   "source": []
  },
  {
   "cell_type": "markdown",
   "metadata": {},
   "source": [
    "### Lists --- we need lists/arrays of data other than characters!\n",
    "\n",
    "* operations on a list --- a lot like strings --- indeed all sequences are very similar in python by design\n",
    "* Where to find the documentation on strings, lists, etc.?   It is in the standard library reference under sequence types.  Go look!\n",
    "* lists are **mutable** so that they can be efficiently grown and operated on (working with millions of things is easy and routine)\n",
    "\n",
    "Examples:\n",
    "* make a list with `'a'` in it 10 times\n",
    "* make a list with `'a'` in it 100 times --- lesson here!  U don't want to print big things!\n",
    "  - avoid printing in Juypyter (iPython) by assigning to a variable or appending a semicolon to the statement\n",
    "* assign to variable y a list with `'a'` in it 1,000,000 times \n",
    "  - you've finally done something you could not by hand!"
   ]
  },
  {
   "cell_type": "code",
   "execution_count": null,
   "metadata": {
    "collapsed": true
   },
   "outputs": [],
   "source": []
  },
  {
   "cell_type": "markdown",
   "metadata": {},
   "source": [
    "### While loops simple example --- iteration and automation are central to programming\n",
    "\n",
    "Essence of a while loop: while not done keep working\n",
    "\n",
    "```\n",
    "    initialize the condition\n",
    "    while (the condition is true) do (work and update the condition)\n",
    "```\n",
    "\n",
    "Example:\n",
    "* print out all positive integers less than 7\n",
    "  - manual solution is `print(0,1,2,3,4,5,6)`\n",
    "  - but what if I had asked for integer less than 30,000 --- automation is essential\n",
    "  \n",
    "* do the above with a while loop --- logically we need to do the following\n",
    "```\n",
    "    set n to zero\n",
    "    while (n is less than 7) do (print n and add 1 to n)\n",
    "```\n",
    "Let's translate this into python:\n",
    "\n",
    "    (we will see much easier ways to do simple things like this, but\n",
    "    the point of this example is to understand iteration and associated\n",
    "    parts of Python)"
   ]
  },
  {
   "cell_type": "code",
   "execution_count": null,
   "metadata": {
    "collapsed": false
   },
   "outputs": [],
   "source": []
  },
  {
   "cell_type": "markdown",
   "metadata": {},
   "source": [
    "Key points:\n",
    "1. translate the statement of the problem (print numbers < 7) into an algorithm\n",
    "2. translate the algorithm into Python code\n",
    "3. don't forget to initialize the condition\n",
    "4. logical test (and other tests)\n",
    "5. `:` is Python's way of indicating a compound statement\n",
    "6. indentation\n",
    "7. don't forget to increment!  What would happen if we did not?\n",
    "\n",
    "Examples:\n",
    "* print out all positive integers with square < 100\n",
    "* print out all positive integers n such that their sum is < 100\n",
    "* the fibbonaci example from the tutorial\n",
    "\n"
   ]
  },
  {
   "cell_type": "code",
   "execution_count": null,
   "metadata": {
    "collapsed": true
   },
   "outputs": [],
   "source": []
  },
  {
   "cell_type": "markdown",
   "metadata": {},
   "source": [
    "### Reading before the next class on wednesday\n",
    "\n",
    "* very briefly peek at and bookmark these three valuable resources to be sure you can find them since you will be referring extensively to them\n",
    "  - tutorial: https://docs.python.org/3/tutorial/index.html\n",
    "  - language reference: https://docs.python.org/3/reference/index.html#reference-index\n",
    "  - standard libary: https://docs.python.org/3/library/index.html\n",
    "\n",
    "* very briefly explore one or two of these online resources --- you can come back to them in more detail later, as needed.\n",
    "  - http://python.org\n",
    "  - http://jupyter.readthedocs.io/en/latest\n",
    "  - http://www.datacamp.com\n",
    "  - http://python-textbok.readthedocs.io/en/1.0\n",
    "  - http://python.swaroopch.com\n",
    "  - http://learnpython.org\n",
    "  - http://www.tutorialspoint.com/python/index.htm\n",
    "  - http://www.eecs.wsu.edu/~schneidj/swan/index.php\n",
    "  - http://anaconda.org/ijstokes/python4science/notebook\n",
    "  - http://thepythonguru.com/\n",
    "\n",
    "* **actually explore** the notebook documentation under help\n",
    "  - you won't understand everything yet (most people never need to)\n",
    "  - do the \"User Interface Tour\" --- it's really short\n",
    "  - look at the \"Keyboard Shortcuts\"\n",
    "  - look at the \"Notebook Help\"\n",
    "  - look at http://jupyter.readthedocs.io/en/latest\n",
    "\n",
    "*  **actually read** jupyter notebook definitive guide\n",
    "  - https://www.datacamp.com/community/tutorials/tutorial-jupyter-notebook\n",
    "  \n",
    "* **review** tutorial section 3 (we just did this)\n",
    "\n",
    "* **actually read** tutorial section 4 (skip 4.7), section 5, and sections 9.1 and 9.2\n",
    "\n",
    "* reading means actually typing in and trying to understand some/most/all of the code examples --- we will go through your questions, problems, and examples in class"
   ]
  },
  {
   "cell_type": "code",
   "execution_count": null,
   "metadata": {
    "collapsed": true
   },
   "outputs": [],
   "source": []
  }
 ],
 "metadata": {
  "anaconda-cloud": {},
  "kernelspec": {
   "display_name": "Python [conda root]",
   "language": "python",
   "name": "conda-root-py"
  },
  "language_info": {
   "codemirror_mode": {
    "name": "ipython",
    "version": 3
   },
   "file_extension": ".py",
   "mimetype": "text/x-python",
   "name": "python",
   "nbconvert_exporter": "python",
   "pygments_lexer": "ipython3",
   "version": "3.5.2"
  }
 },
 "nbformat": 4,
 "nbformat_minor": 1
}
