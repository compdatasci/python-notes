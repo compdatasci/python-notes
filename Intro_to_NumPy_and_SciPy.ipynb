{
 "cells": [
  {
   "cell_type": "markdown",
   "metadata": {},
   "source": [
    "# Introduction To NumPy and SciPy\n",
    "\n",
    "NumPy (Numerical Python) and SciPy (Scientific Python) are Python libraries designed for numerical computing and scientific applications, respectively. These libraries are very popular and provide a lot of domain-specific functions for different applications. \n",
    "\n",
    "You may want to look at the following links:\n",
    "- NumPy User Guide: https://docs.scipy.org/doc/numpy/user/index.html\n",
    "- NumPy Tutorial: https://docs.scipy.org/doc/numpy-dev/user/quickstart.html\n",
    "- NumPy for Matlab Users: https://docs.scipy.org/doc/numpy/user/numpy-for-matlab-users.html\n",
    "- SciPy Tutorial: https://docs.scipy.org/doc/scipy/reference/tutorial/index.html"
   ]
  },
  {
   "cell_type": "markdown",
   "metadata": {},
   "source": [
    "# Intro to NumPy\n",
    "\n",
    "We will look at basic NumPy functionality:\n",
    "- Working with data types and arrays\n",
    "- Differences with NumPy arrays and NumPy matrices\n",
    "- I/O with NumPy arrays"
   ]
  },
  {
   "cell_type": "markdown",
   "metadata": {},
   "source": [
    "# Working with arrays in NumPy\n",
    "\n",
    "NumPy is similar to Matlab/Octave because it focuses on arrays of data. We will look at how to create NumPy arrays from Python lists as well as some functions for natively creating arrays.\n",
    "\n",
    "The main thing to know about NumPy arrays is that they are really just dumb collections of numbers which appear together in memory. Their syntax is very similar at a high level to working with lists in Python, where one uses the command a[i-1] to access the ith entry of a list/array `a`.There are a few caveats to NumPy arrays that make them different from other Python data types such as lists.\n",
    "\n",
    "1. Every entry in a NumPy array will have the same type. That means that arrays don't mix up Integers with Floats, Strings, or other types.\n",
    "  - In contrast, Python lists can mix different types. This makes them very flexible for general purpose programming but not very good for numerical programming.\n",
    "2. NumPy arrays facilitate numerical computation in a manner similar to Matlab/octave.\n",
    "  - NumPy arrays allow all Python arithmetic operators (`+`, `-`, `*`, `/`, `//`, `**`) to act on arrays. By default, these all operate elementwise.\n",
    "  - Matlab arrays have similar operations, but require the special elementwise operators .`*`, `./`, `.^`.\n",
    "\n",
    "\n",
    "The easiest way to create NumPy arrays is by passing a Python list and creating an array object."
   ]
  },
  {
   "cell_type": "code",
   "execution_count": null,
   "metadata": {
    "collapsed": false
   },
   "outputs": [],
   "source": [
    "import numpy as np  # Imports the NumPy module\n",
    "\n",
    "# Create two NumPy arrays of 5 numbers\n",
    "a = np.array([1, 2, -3.2, 5, 7])  # An array of floats. Why do these have to be floats?\n",
    "b = np.array([2, -4, 6, 7, 10])   # An array of integers\n",
    "\n",
    "print(\"a =\")\n",
    "print(a)\n",
    "print(\"b =\")\n",
    "print(b)"
   ]
  },
  {
   "cell_type": "markdown",
   "metadata": {},
   "source": [
    "## Arithmetic in NumPy arrays\n",
    "NumPy arrays allow you to use simple arithmetic syntax directly on the NumPy arrays themselves. These operations are basically the same as Matlab's elementwise operators"
   ]
  },
  {
   "cell_type": "code",
   "execution_count": null,
   "metadata": {
    "collapsed": false
   },
   "outputs": [],
   "source": [
    "# Performing arithmetic operations on NumPy arrays\n",
    "print(\"sum:\\n\",a+b)               # Equivalent Matlab syntax: a+b\n",
    "print(\"difference:\\n\",a-b)        # Equivalent Matlab syntax: a-b\n",
    "print(\"product:\\n\",a*b)           # Equivalent Matlab syntax: a.*b\n",
    "print(\"quotient:\\n\",a/b)          # Equivalent Matlab syntax: a./b\n",
    "print(\"Exponentiation:\\n\",a**b)   # Equivalent Matlab syntax: a.^b"
   ]
  },
  {
   "cell_type": "markdown",
   "metadata": {},
   "source": [
    "## Broadcasting\n",
    "NumPy arrays also let you use a concept called \"broadcasting\" which is essentially performing the same arithmetic operation over all of the arrays elements. There are two rules:\n",
    "1. Either one of the NumPy arrays must be a \"scalar\" or a \"singleton\"\n",
    "2. Both NumPy arrays must have the same \"shape\""
   ]
  },
  {
   "cell_type": "code",
   "execution_count": null,
   "metadata": {
    "collapsed": false
   },
   "outputs": [],
   "source": [
    "print(\"Two times a: \\n2*a =\\n\",2*a,\"\\n\")\n",
    "print(\"A linear combination: \\nb[0]*a - a[-1]*b =\\n\",b[0]*a - a[-1]*b)\n",
    "\n",
    "# If I have an array of a different size, then broadcasting does not work\n",
    "# print(a+np.array([-3,2])) # Raises a ValueError"
   ]
  },
  {
   "cell_type": "markdown",
   "metadata": {},
   "source": [
    "## Accessing Entries in NumPy arrays\n",
    "\n",
    "Accessing NumPy arrays is done similarly to Python lists. The process is very similar to Matlab array access, but also has some more convenient features which Matlab's syntax does not have."
   ]
  },
  {
   "cell_type": "code",
   "execution_count": null,
   "metadata": {
    "collapsed": false
   },
   "outputs": [],
   "source": [
    "# Accessing entries in arrays\n",
    "print(\"First element of a:\",a[0]) # Access first element of a\n",
    "print(\"Last element of a:\",a[-1]) # Access last element of a\n",
    "\n",
    "# Write to b\n",
    "print(\"This is how b looks now:\\n\",b)\n",
    "b[1] = -1\n",
    "print(\"What has changed about b?\\n\",b)\n",
    "\n",
    "# What about if I try to set one of the entries equal to a floating point number?\n",
    "b[-1] = 55/33\n",
    "print(\"b now looks like:\\n\",b)  # What explains this behavior?\n",
    "# b[0] = \"foo\" # What about this?"
   ]
  },
  {
   "cell_type": "markdown",
   "metadata": {},
   "source": [
    "You can also access multiple entries at once by using \"slices\" of arrays. The syntax works similar to Matlab slices but has some more flexible \n",
    "\n",
    "``` \n",
    "a[start:stop] # Get every entry between index start and index start-1\n",
    "a[start:stop:stride] # Same as above but picks skips over indices\n",
    "```\n",
    "\n",
    "If `stride`, `stop`, or `start` are left out, then the Python chooses the sanest defaults (`start=0`, `stop=len(array)`, `stride=1`)."
   ]
  },
  {
   "cell_type": "code",
   "execution_count": null,
   "metadata": {
    "collapsed": false
   },
   "outputs": [],
   "source": [
    "# Get every the first four elements of a\n",
    "print(\"First four entries of a:\\n\",a[0:4])\n",
    "print(a[:4])    # Equivalent and short. \n",
    "print(a[:-1])   # Works because a has 5 entries\n",
    "\n",
    "# Get every other element in b starting at b[1]\n",
    "print(\"\\nEvery other entry starting from b[1]:\\n\",b[1::2])   # Note that stop = len(b)\n",
    "\n",
    "# We can also use slices to alter entries in an array\n",
    "c = np.array([-5,6,20, -300, 5000,2000])\n",
    "print(\"c =\\n\",c)\n",
    "\n",
    "c[2:6:2] = [-20,3] # Sets c[2] = -20, c[4] = 3\n",
    "print(\"Now c=\\n\",c)"
   ]
  },
  {
   "cell_type": "markdown",
   "metadata": {},
   "source": [
    "NumPy also lets you use index arrays to select elements of the array in any order (say a permutation or some sort of \"map\" that you are working with). Index arrays must be arrays of integers!"
   ]
  },
  {
   "cell_type": "code",
   "execution_count": null,
   "metadata": {
    "collapsed": false
   },
   "outputs": [],
   "source": [
    "# Index arrays to access data\n",
    "d = a[np.array([2,3,4,1,0])]\n",
    "print(\"d = \\n\",d)\n",
    "\n",
    "# Use index arrays to manipulate data\n",
    "d[np.array([-1,2])] = np.array([-5.0,333.3])\n",
    "print(\"\\nd = \\n\",d)"
   ]
  },
  {
   "cell_type": "markdown",
   "metadata": {},
   "source": [
    "NumPy also lets you use Boolean arrays or \"masks\" to access elements of an array which satisfy some sort of property"
   ]
  },
  {
   "cell_type": "code",
   "execution_count": null,
   "metadata": {
    "collapsed": false
   },
   "outputs": [],
   "source": [
    "print(\"All positive entries of a:\\n\",a[a>0])\n",
    "print(\"The corresponding mask:\\n\",a>0)\n",
    "print(\"Compare with a:\\n\",a)"
   ]
  },
  {
   "cell_type": "markdown",
   "metadata": {},
   "source": [
    "## Matlab-like Functions\n",
    "NumPy also has several Matlab-like functions which can be helpful when you want to initialize simple arrays."
   ]
  },
  {
   "cell_type": "code",
   "execution_count": null,
   "metadata": {
    "collapsed": false
   },
   "outputs": [],
   "source": [
    "# NumPy specific functions\n",
    "arr1 = np.zeros(10) # Initialize an array of ten zeros (like Matlab's zeros() function)\n",
    "\n",
    "arr2 = np.ones(10)  # Initialize an array of ten ones\n",
    "\n",
    "ZeroThruNine = np.arange(10) # Basically the same thing as Matlab command 0:9\n",
    "FiveThruNine = np.arange(5,10) # This is the same as 5:10\n",
    "EvensLessThanTen = np.arange(0,10,2)  # Same as Matlab command 0:2:8\n",
    "SmallSteps = np.arange(0,10,0.1)      # Same as Matlab command 0:0.1:0.9"
   ]
  },
  {
   "cell_type": "markdown",
   "metadata": {},
   "source": [
    "## Multi-dimensional Arrays\n",
    "\n",
    "NumPy arrays can also have shapes, similar to Matlab arrays. However, NumPy arrays have simpler behavior by default than Matlab multi-dimensional arrays (which behave like literal matrices)"
   ]
  },
  {
   "cell_type": "code",
   "execution_count": null,
   "metadata": {
    "collapsed": false
   },
   "outputs": [],
   "source": [
    "multiarray = np.array([[-1,2,3],[4.5, 3.0, 5.5]]) # A multi-array with two rows and three columns\n",
    "print(\"multiarray =\\n\",multiarray)\n",
    "\n",
    "# To get the \"shape\" of an array, use the shape property\n",
    "print(\"\\nmultiarray.shape =\",multiarray.shape)\n",
    "\n",
    "# To access data entries there are two different ways\n",
    "print(\"multiarray[0,1] =\",multiarray[0,1]) # Use [i-1,j-1] to access (i,j)th entry\n",
    "print(\"multiarray[0][1] =\",multiarray[0][1]) # Accesses jth entry in ith row\n",
    "\n",
    "# Either way lets you change individual elements\n",
    "print(\"Changing (1,2) entry to -5:\")\n",
    "multiarray[0,1] = -5    \n",
    "print(\"multiarray =\\n\",multiarray,\"\\n\")\n",
    "\n",
    "print(\"Now try to change (2,3) entry to 100.3\\n\")\n",
    "multiarray[1][2] = 100.3 # This *doesn't* change the data\n",
    "print(\"multiarray =\\n\",multiarray,\"\\n\")\n",
    "\n",
    "# Or you can change a single row of the multidimensional array\n",
    "multiarray[0] = np.array([-3.14, 0, 0])\n",
    "print(multiarray)"
   ]
  },
  {
   "cell_type": "markdown",
   "metadata": {},
   "source": [
    "Multiarrays can be accessed the same way as regular NumPy arrays. So you can use all of the concepts of "
   ]
  },
  {
   "cell_type": "code",
   "execution_count": null,
   "metadata": {
    "collapsed": false
   },
   "outputs": [],
   "source": [
    "# Access multiarray elements using \n",
    "submultiarray = multiarray[:,0:2]\n",
    "print(submultiarray)\n",
    "submultiarray[:,1] = np.array([-2,4])\n",
    "print(submultiarray)\n",
    "print(multiarray)"
   ]
  },
  {
   "cell_type": "markdown",
   "metadata": {},
   "source": [
    "## Multidimensional array shapes\n",
    "Multidimensional arrays have \"shapes\" which allow for you to work with data in a manner similar to Matlab. Many functions are very similar to Matlab's builtin functions. \n",
    "\n",
    "- The `shape` gives the layout of the memory as a tuple.\n",
    "- The `reshape` method allows one to view an array as a different shape without changing the original array.\n",
    "- The `resize` method allows one to change the shape of an array.\n",
    "- The `ravel` method is similar to reshape but changes a multidimensional array to a flat array"
   ]
  },
  {
   "cell_type": "code",
   "execution_count": null,
   "metadata": {
    "collapsed": false
   },
   "outputs": [],
   "source": [
    "# Get the shape information of an array\n",
    "example_array = np.arange(0,10)\n",
    "print(\"example_array shape:\",example_array.shape) # shape method works like Matlab's size() function\n",
    "print(\"example_array as a single-dimension array:\\n\",example_array)\n",
    "\n",
    "# The reshape command keeps allows one to \"reshape\" the array without changing information.\n",
    "ex2 = example_array.reshape(2,5) # We have to store the reshaped object in another variable\n",
    "print(\"ex2.shape =\",ex2.shape)\n",
    "print(\"ex2 =\\n\",ex2,\"\\n\")\n",
    "print(\"example_array =\\n\",example_array) # Original array still has the same shape\n",
    "\n",
    "# You can still modify the underlying content by ex2. \n",
    "print('Modifying ex2[0,0] = -1')\n",
    "ex2[0,0] = -1\n",
    "print(\"\\nex2 =\\n\",ex2)\n",
    "print(\"\\nexample_array =\\n\",example_array)\n",
    "\n",
    "# Use resize to change the shape of example_array\n",
    "example_array.resize(5,2)\n",
    "print('\\nexample_array.shape =',example_array.shape)\n",
    "print(\"\\nexample_array =\\n\",example_array)\n",
    "print(\"ex2 = \\n\",ex2)   # Note that ex2 is not affected\n",
    "\n",
    "# Now flatten example_array back to a flat array\n",
    "ex3 = example_array.ravel()\n",
    "print(\"example_array.shape =\",example_array.shape) # example_array's shape is unchanged!\n",
    "print(\"ex3 =\\n\",ex3)"
   ]
  },
  {
   "cell_type": "markdown",
   "metadata": {},
   "source": [
    "# Linear Algebra in NumPy\n",
    "\n",
    "Linear algebra in NumPy is slightly more involved than in Matlab to preserve Python's general purpose syntax. The NumPy linear algebra functions are stored inside of the `numpy.linalg` submodule which contains functions like the following\n",
    "- `dot()` Matrix-matrix or matrix-vector product\n",
    "- `transpose()` compute matrix transpose\n",
    "- `inv()` compute the inverse of a matrix\n",
    "- `solve()` solve a linear system\n",
    "- `eig()` compute the eigenvalue decomposition of a matrix"
   ]
  },
  {
   "cell_type": "code",
   "execution_count": null,
   "metadata": {
    "collapsed": false
   },
   "outputs": [],
   "source": [
    "# Create two 2-by-2 matrices\n",
    "A = np.array([[0, -1],[1,0]])\n",
    "B = np.array([[3,4],[-5,6]])\n",
    "\n",
    "print('A*B = \\n',A*B,\"\\n\") # Element-wise multiplication\n",
    "print('A.dot(B) =\\n',A.dot(B),\"\\n\") # matrix-matrix product\n",
    "print('B.dot(A) =\\n',B.dot(A),\"\\n\") # matrix-matrix multiplication is not commutative\n",
    "\n",
    "# Now create a \"vector\" c as a single-dimensional array. This is different from Matlab!\n",
    "c = np.array([5,10])\n",
    "print(\"A.dot(c) =\\n\",A.dot(c)) \n",
    "print(\"c.dot(A) =\\n\",c.dot(A))\n",
    "\n",
    "# Solve B*x = c\n",
    "x = np.linalg.solve(B,c)\n",
    "print(\"x = \\n\",x)\n",
    "print(\"np.linalg.norm(B.dot(x) - c) = \",np.linalg.norm(B.dot(x)-c)) # Compute residual norm to verify solution"
   ]
  },
  {
   "cell_type": "markdown",
   "metadata": {},
   "source": [
    "## NumPy Matrices\n",
    "\n",
    "NumPy has a special class of multidimensional arrays given by the `np.matrix` class. These allow a more Matlab-like syntax for linear algebra. "
   ]
  },
  {
   "cell_type": "code",
   "execution_count": null,
   "metadata": {
    "collapsed": false
   },
   "outputs": [],
   "source": [
    "# Initialize a 3-by-3 matrix\n",
    "Amat = np.matrix(A)\n",
    "Bmat = np.matrix(B)\n",
    "\n",
    "print('Amat*Bmat =\\n',Amat*Bmat)\n",
    "print(\"Bmat*Amat =\\n\",Bmat*Amat)\n",
    "\n",
    "print(\"Transpose of Amat:\\n\",Amat.transpose())"
   ]
  },
  {
   "cell_type": "markdown",
   "metadata": {},
   "source": [
    "# Data Types and Arrays in NumPy\n",
    "\n",
    "NumPy has several different \"sizes\" of data types similar to lower level languages like C, C++, or Fortran. NumPy supports the following data types\n",
    "- Integers\n",
    "  - Signed integers (range)\n",
    "    - int8 (-128 to 127)\n",
    "    - int16 (-32768 to 32768)\n",
    "    - int32 (-2147483648 to 2147483647)\n",
    "    - int64 (-9223372036854775808 to 9223372036854775807)\n",
    "    - int\\_ (default \"long\" integer, usually int64 but could be int32 for some computer architectures)\n",
    "  - Unsigned integers (range)\n",
    "    - uint8 (0 to 256)\n",
    "    - uint16 (0 to 65535)\n",
    "    - uint32 (0 to 4294967295)\n",
    "    - uint64 (0 to 18446744073709551615)\n",
    "- Floating Point \n",
    "  - float16 (Half precision) \n",
    "  - float32 (Single precision)\n",
    "  - float64 (Double precision)\n",
    "  - float\\_ (defaults to double precision, float64)\n",
    "- Complex Numbers\n",
    "  - complex64 (two 32 bit single precision floats)\n",
    "  - complex128 (two 64 bit double precision floats)\n",
    "  - complex\\_ (defaults to complex128)"
   ]
  },
  {
   "cell_type": "code",
   "execution_count": null,
   "metadata": {
    "collapsed": false
   },
   "outputs": [],
   "source": [
    "x = np.array([[250, 300, 512],[-300, 500, 216],[541, -128, -256]],dtype='i4') # Initialize x as a 32-bit unsigned integer\n",
    "print(x)\n",
    "y = np.array([[3.14,-28e4,2.54e-3,2.5e10],\n",
    "              [-0,1.5e-2,2.222,5/4]],dtype='complex128') # Initialize y as a 128-bit complex number\n",
    "print(y)"
   ]
  },
  {
   "cell_type": "markdown",
   "metadata": {
    "collapsed": false
   },
   "source": [
    "# Reading Files into NumPy Arrays\n",
    "\n",
    "NumPy provides a couple functions for reading text files. The simplest one is `np.loadtxt` which lets you read in text files for multi-dimensional arrays. This is a fast reader so it requires that every row have the same number of entries.\n",
    "\n",
    "We will use the StringIO module to allow strings to have be used in place of file IO. "
   ]
  },
  {
   "cell_type": "code",
   "execution_count": null,
   "metadata": {
    "collapsed": false
   },
   "outputs": [],
   "source": [
    "from io import StringIO # \n",
    "c = StringIO(\"0 1\\n2 3\\n3 4\\n5 6\")\n",
    "x = np.loadtxt(c,dtype='int32') # Load as 32-bit integers"
   ]
  },
  {
   "cell_type": "code",
   "execution_count": null,
   "metadata": {
    "collapsed": false,
    "scrolled": false
   },
   "outputs": [],
   "source": [
    "# Make sure that \"sample.txt\" is in the same folder as this notebook!\n",
    "y = np.loadtxt(\"sample.txt\") # Have NumPy load the text using default parameters\n",
    "print(y)\n",
    "\n",
    "row1 = y[0,:]\n",
    "print(\"Mean of row 1:\",np.mean(row1))\n",
    "print(\"Mean of y:\",np.mean(y))\n"
   ]
  }
 ],
 "metadata": {
  "anaconda-cloud": {},
  "kernelspec": {
   "display_name": "Python [conda root]",
   "language": "python",
   "name": "conda-root-py"
  },
  "language_info": {
   "codemirror_mode": {
    "name": "ipython",
    "version": 3
   },
   "file_extension": ".py",
   "mimetype": "text/x-python",
   "name": "python",
   "nbconvert_exporter": "python",
   "pygments_lexer": "ipython3",
   "version": "3.5.2"
  }
 },
 "nbformat": 4,
 "nbformat_minor": 2
}
